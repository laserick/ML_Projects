{
  "nbformat": 4,
  "nbformat_minor": 0,
  "metadata": {
    "colab": {
      "provenance": []
    },
    "kernelspec": {
      "name": "python3",
      "display_name": "Python 3"
    },
    "language_info": {
      "name": "python"
    }
  },
  "cells": [
    {
      "cell_type": "markdown",
      "source": [
        "# Introduction"
      ],
      "metadata": {
        "id": "YJY6GwiJeAwy"
      }
    },
    {
      "cell_type": "markdown",
      "source": [
        "The MNIST dataset offers a foundational challenge in digit classification. This challenge aims at classifying these handwritten digits, each represented as a 28 * 28 pixel grayscale image. With a dataset comprising 60,000 training images and 10,000 test images, our task is to unravel the intricate patterns that define each digit from 0 to 9. Through this challenge, we aim to not just accurately predict the handwritten digits but also to demonstrate a comprehensive understanding of machine learning techniques, from fundamental concepts to advanced computational frameworks.\n",
        "\n",
        "Our methodology adopts crafting neural networks from scratch and exploring further by using frameworks like PyTorch to delve deeper into the machine learning landscape and optimize our model's performance. It not only solidifies our understanding of neural network architectures but also sets the stage for further innovation."
      ],
      "metadata": {
        "id": "gJtAgMZ7vVft"
      }
    },
    {
      "cell_type": "markdown",
      "metadata": {
        "id": "l6zhpqGNNF7T"
      },
      "source": [
        "# Set up"
      ]
    },
    {
      "cell_type": "code",
      "execution_count": null,
      "metadata": {
        "id": "o6fE28EqNpHQ"
      },
      "outputs": [],
      "source": [
        "# importing libraries\n",
        "import pandas as pd\n",
        "import numpy as np\n",
        "import torch\n",
        "from torch.utils.data import DataLoader, TensorDataset\n",
        "from torch import nn, optim\n",
        "from sklearn.model_selection import train_test_split\n",
        "from sklearn.preprocessing import RobustScaler\n",
        "import matplotlib.pyplot as plt\n",
        "import torch.nn.init as init\n",
        "from torch.optim.lr_scheduler import OneCycleLR\n"
      ]
    },
    {
      "cell_type": "code",
      "execution_count": null,
      "metadata": {
        "colab": {
          "base_uri": "https://localhost:8080/"
        },
        "id": "y3x8b-xMiJLA",
        "outputId": "bab51757-034d-400c-f6c5-187ab0936844"
      },
      "outputs": [
        {
          "output_type": "stream",
          "name": "stdout",
          "text": [
            "Mounted at /content/drive\n"
          ]
        }
      ],
      "source": [
        "# mount the drive\n",
        "from google.colab import drive\n",
        "drive.mount('/content/drive')"
      ]
    },
    {
      "cell_type": "code",
      "source": [
        "# Load the data\n",
        "x_data = pd.read_csv(\"/content/drive/MyDrive/CIS_678/challenge_03/mnist_train.csv\")\n",
        "y = pd.read_csv(\"/content/drive/MyDrive/CIS_678/challenge_03/mnist_train_targets.csv\")\n",
        "x_test = pd.read_csv(\"/content/drive/MyDrive/CIS_678/challenge_03/mnist_test.csv\")"
      ],
      "metadata": {
        "id": "YHxCnTrMeTeR"
      },
      "execution_count": null,
      "outputs": []
    },
    {
      "cell_type": "markdown",
      "source": [
        "## Data Pre-processing"
      ],
      "metadata": {
        "id": "PSf7h5CdeqRL"
      }
    },
    {
      "cell_type": "code",
      "source": [
        "# Transposing data\n",
        "x_data = x_data.T\n",
        "x_test = x_test.T\n",
        "\n",
        "# Normalize the data\n",
        "x_data = x_data/255.0\n",
        "x_test = x_test/255.0\n",
        "\n",
        "y_array = y.squeeze().to_numpy()  # Ensure 'y' is a 1D NumPy array"
      ],
      "metadata": {
        "id": "OO_6WHlebzhj"
      },
      "execution_count": null,
      "outputs": []
    },
    {
      "cell_type": "markdown",
      "source": [
        "# Building a Simple Classifier"
      ],
      "metadata": {
        "id": "CLGu_-h6e7F3"
      }
    },
    {
      "cell_type": "markdown",
      "source": [
        "**Low level implementation**\n",
        "\n",
        "The code implements a neural network for MNIST digit classification. It includes functions for activation (ReLU and softmax), parameter initialization, forward and backward propagation, and gradient descent for training. Softmax ensures that the output of the neural network represents a probability distribution over the classes. One-hot encoding is used for labels, and predictions are made based on the highest probability output. The code allows for training the network, making predictions on new data, and evaluating accuracy. Overall, it provides a comprehensive low-level implementation of a neural network classifier tailored for the MNIST dataset.\n",
        "Reference code:https://www.kaggle.com/code/wwsalmon/simple-mnist-nn-from-scratch-numpy-no-tf-keras\n"
      ],
      "metadata": {
        "id": "GhY-tBm5reqw"
      }
    },
    {
      "cell_type": "code",
      "source": [
        "\n",
        "# ReLU activation function\n",
        "def relu(Z):\n",
        "    return np.maximum(Z, 0)\n",
        "\n",
        "# Softmax activation function\n",
        "def softmax(Z):\n",
        "    exp_Z = np.exp(Z - np.max(Z, axis=0, keepdims=True))\n",
        "    return exp_Z / np.sum(exp_Z, axis=0, keepdims=True)\n",
        "\n",
        "# Initialize parameters for the neural network\n",
        "def initialize_parameters(size):\n",
        "    W1 = np.random.randn(10, size) * 0.01\n",
        "    b1 = np.zeros((10, 1))\n",
        "    W2 = np.random.randn(10, 10) * 0.01\n",
        "    b2 = np.zeros((10, 1))\n",
        "    return W1, b1, W2, b2\n",
        "\n",
        "# Forward propagation through the neural network\n",
        "def forward_propagation(X, W1, b1, W2, b2):\n",
        "    Z1 = np.dot(W1, X) + b1\n",
        "    A1 = relu(Z1)\n",
        "    Z2 = np.dot(W2, A1) + b2\n",
        "    A2 = softmax(Z2)\n",
        "    return Z1, A1, Z2, A2\n",
        "\n",
        "# Convert labels to one-hot encoding\n",
        "def one_hot(Y):\n",
        "    one_hot_Y = np.zeros((10, Y.size))\n",
        "    one_hot_Y[Y, np.arange(Y.size)] = 1\n",
        "    return one_hot_Y\n",
        "\n",
        "# Backward propagation to compute gradients\n",
        "def backward_propagation(X, Y, A1, A2, W2):\n",
        "    m = X.shape[1]\n",
        "    one_hot_Y = one_hot(Y)\n",
        "\n",
        "    dZ2 = A2 - one_hot_Y\n",
        "    dW2 = (1 / m) * np.dot(dZ2, A1.T)\n",
        "    db2 = (1 / m) * np.sum(dZ2, axis=1, keepdims=True)\n",
        "\n",
        "    dZ1 = np.dot(W2.T, dZ2) * (A1 > 0)\n",
        "    dW1 = (1 / m) * np.dot(dZ1, X.T)\n",
        "    db1 = (1 / m) * np.sum(dZ1, axis=1, keepdims=True)\n",
        "\n",
        "    return dW1, db1, dW2, db2\n",
        "\n",
        "# Update parameters using gradient descent\n",
        "def update_parameters(alpha, W1, b1, W2, b2, dW1, db1, dW2, db2):\n",
        "    W1 -= alpha * dW1\n",
        "    b1 -= alpha * db1\n",
        "    W2 -= alpha * dW2\n",
        "    b2 -= alpha * db2\n",
        "    return W1, b1, W2, b2\n",
        "\n",
        "# Get predictions from output probabilities\n",
        "def get_predictions(A2):\n",
        "    return np.argmax(A2, axis=0)\n",
        "\n",
        "# Calculate accuracy of predictions\n",
        "def get_accuracy(predictions, Y):\n",
        "    return np.sum(predictions == Y) / Y.size\n",
        "\n",
        "\n",
        "# A function that will plot Training accuracy over several iterations\n",
        "def plot_training_accuracy(accuracies):\n",
        "    plt.plot(accuracies, label='Training Accuracy')\n",
        "    plt.xlabel('Iterations')\n",
        "    plt.ylabel('Accuracy')\n",
        "    plt.title('Training Accuracy over Iterations')\n",
        "    plt.legend()\n",
        "    plt.show()\n",
        "\n",
        "\n",
        "# Gradient descent to train the neural network\n",
        "def gradient_descent(X, Y, alpha, iterations):\n",
        "    size, m = X.shape\n",
        "    W1, b1, W2, b2 = initialize_parameters(size)\n",
        "    accuracies = []\n",
        "\n",
        "    for i in range(iterations):\n",
        "        Z1, A1, Z2, A2 = forward_propagation(X, W1, b1, W2, b2)\n",
        "        dW1, db1, dW2, db2 = backward_propagation(X, Y, A1, A2, W2)\n",
        "        W1, b1, W2, b2 = update_parameters(alpha, W1, b1, W2, b2, dW1, db1, dW2, db2)\n",
        "\n",
        "        predictions = get_predictions(A2)\n",
        "        accuracy = get_accuracy(predictions, Y)\n",
        "        accuracies.append(accuracy)\n",
        "\n",
        "        if (i + 1) % int(iterations / 10) == 0:\n",
        "            print(f\"Iteration: {i + 1} / {iterations}\")\n",
        "            print(f'Accuracy: {accuracy:.3%}')\n",
        "\n",
        "    return W1, b1, W2, b2, accuracies\n",
        "\n",
        "# Make predictions on new data\n",
        "def make_predictions(X, W1, b1, W2, b2):\n",
        "    _, _, _, A2 = forward_propagation(X, W1, b1, W2, b2)\n",
        "    predictions = get_predictions(A2)\n",
        "    return predictions\n",
        "\n",
        "# Display a single prediction\n",
        "def show_prediction(index, X, Y, W1, b1, W2, b2):\n",
        "    vect_X = X[:, index, None]\n",
        "    prediction = make_predictions(vect_X, W1, b1, W2, b2)\n",
        "    label = Y[index]\n",
        "    print(\"Prediction:\", prediction)\n",
        "    print(\"Label:\", label)\n",
        "\n"
      ],
      "metadata": {
        "id": "Rzab6aferkw7"
      },
      "execution_count": null,
      "outputs": []
    },
    {
      "cell_type": "code",
      "source": [
        "# Training the neural network using gradient descent\n",
        "# x_data: Training data\n",
        "# y_array: Corresponding labels for the training data,to be transposed with shape (1, 60000)\n",
        "# alpha: Learning rate for gradient descent\n",
        "# iterations: Number of iterations for training\n",
        "W1, b1, W2, b2, accuracies = gradient_descent(x_data.T, y_array.T, alpha=0.5, iterations=2000)\n",
        "plot_training_accuracy(accuracies)"
      ],
      "metadata": {
        "id": "1Fjciot-rsep",
        "colab": {
          "base_uri": "https://localhost:8080/",
          "height": 841
        },
        "outputId": "46d6c949-b777-43ae-988c-e3f29f427659"
      },
      "execution_count": null,
      "outputs": [
        {
          "output_type": "stream",
          "name": "stdout",
          "text": [
            "Iteration: 200 / 2000\n",
            "Accuracy: 89.290%\n",
            "Iteration: 400 / 2000\n",
            "Accuracy: 92.388%\n",
            "Iteration: 600 / 2000\n",
            "Accuracy: 92.752%\n",
            "Iteration: 800 / 2000\n",
            "Accuracy: 93.260%\n",
            "Iteration: 1000 / 2000\n",
            "Accuracy: 82.943%\n",
            "Iteration: 1200 / 2000\n",
            "Accuracy: 93.905%\n",
            "Iteration: 1400 / 2000\n",
            "Accuracy: 94.023%\n",
            "Iteration: 1600 / 2000\n",
            "Accuracy: 94.173%\n",
            "Iteration: 1800 / 2000\n",
            "Accuracy: 93.387%\n",
            "Iteration: 2000 / 2000\n",
            "Accuracy: 93.713%\n"
          ]
        },
        {
          "output_type": "display_data",
          "data": {
            "text/plain": [
              "<Figure size 640x480 with 1 Axes>"
            ],
            "image/png": "[encoded data removed]"
          },
          "metadata": {}
        }
      ]
    },
    {
      "cell_type": "code",
      "source": [
        "# Make predictions on the test data using the trained parameters\n",
        "# x_test: Test data for which predictions are to be made\n",
        "# W1, b1, W2, b2: Trained parameters of the neural network\n",
        "pred_test1 = make_predictions(x_test.T, W1 ,b1, W2, b2)"
      ],
      "metadata": {
        "id": "SPZ15rJ4rsQB"
      },
      "execution_count": null,
      "outputs": []
    },
    {
      "cell_type": "code",
      "source": [
        "# Create a DataFrame\n",
        "df = pd.DataFrame({\"Id\": range(1, len(pred_test1) + 1), \"Expected\": pred_test1.T})\n",
        "\n",
        "# Write DataFrame to a CSV file\n",
        "#"
      ],
      "metadata": {
        "id": "Dogo3DBlr11T"
      },
      "execution_count": null,
      "outputs": []
    },
    {
      "cell_type": "code",
      "source": [
        "df.to_csv(\"submission_34.csv\", index=False)"
      ],
      "metadata": {
        "id": "ZW1-xfhur7rK"
      },
      "execution_count": null,
      "outputs": []
    },
    {
      "cell_type": "markdown",
      "source": [
        "After several tunings of the model, an alpha(learning rate) of 0.5 over 2000 iterations gave the best Kaggle score of 0.93966 for  the low-level implementation"
      ],
      "metadata": {
        "id": "IUXi2QRw4hnx"
      }
    },
    {
      "cell_type": "markdown",
      "source": [
        "# Best Performing Model"
      ],
      "metadata": {
        "id": "aWz-8dnbpJC2"
      }
    },
    {
      "cell_type": "markdown",
      "source": [
        "We selected PyTorch libraries to construct Convolutional Neural Networks (CNNs), recognizing their superior capability in handling image data, particularly for tasks like the MNIST digit classification.\n",
        "\n",
        "The architecture of CNNs, with their hierarchical layering, excels in capturing the intricate patterns and features within images, making them exceptionally suited for identifying the subtle differences in the handwritten digits of the MNIST dataset. This strategic choice allows us to not only harness the computational efficiency and flexibility of PyTorch but also to tap into the advanced feature extraction capabilities of CNNs, setting a solid foundation for our digit classification task."
      ],
      "metadata": {
        "id": "-0k1aIYdfMTo"
      }
    },
    {
      "cell_type": "code",
      "source": [
        "# Splitting the dataset\n",
        "x_train, x_val, y_train, y_val = train_test_split(x_data, y_array, test_size=0.2, random_state=42)\n",
        "\n",
        "\n",
        "# Convert the pandas dataframes and numpy arrays to PyTorch tensors\n",
        "x_train_tensor = torch.tensor(x_train.values, dtype=torch.float32)\n",
        "y_train_tensor = torch.tensor(y_train, dtype=torch.long)  # Removed .values\n",
        "x_val_tensor = torch.tensor(x_val.values, dtype=torch.float32)\n",
        "y_val_tensor = torch.tensor(y_val, dtype=torch.long)  # Removed .values\n"
      ],
      "metadata": {
        "id": "sEePHc8oc20u"
      },
      "execution_count": null,
      "outputs": []
    },
    {
      "cell_type": "markdown",
      "source": [
        "## Defining the Classifier Model"
      ],
      "metadata": {
        "id": "zdyCFxz4pgJb"
      }
    },
    {
      "cell_type": "code",
      "source": [
        "class ModifiedCNN(nn.Module):\n",
        "    def __init__(self):\n",
        "        super(ModifiedCNN, self).__init__()\n",
        "        # Convolutional layers\n",
        "        self.conv1 = nn.Conv2d(1, 32, kernel_size=3, padding=1)\n",
        "        self.bn1 = nn.BatchNorm2d(32)  # BatchNorm layer for conv1\n",
        "        self.conv2 = nn.Conv2d(32, 64, kernel_size=3, padding=1)\n",
        "        self.bn2 = nn.BatchNorm2d(64)  # BatchNorm layer for conv2\n",
        "\n",
        "        # Pooling layer\n",
        "        self.pool = nn.MaxPool2d(2, 2)\n",
        "\n",
        "        # Fully connected layers with fewer neurons\n",
        "        self.fc1 = nn.Linear(64 * 7 * 7, 128)  # Adjusted for the pooling and reduced filters\n",
        "        self.fc2 = nn.Linear(128, 10)\n",
        "\n",
        "        # Non-linear activations and dropout\n",
        "        self.leaky_relu = nn.LeakyReLU(negative_slope=0.01)\n",
        "        self.dropout = nn.Dropout(0.25)\n",
        "\n",
        "        # Apply He initialization to the layers\n",
        "        init.kaiming_normal_(self.conv1.weight, nonlinearity='leaky_relu')\n",
        "        init.kaiming_normal_(self.conv2.weight, nonlinearity='leaky_relu')\n",
        "        init.kaiming_normal_(self.fc1.weight, nonlinearity='leaky_relu')\n",
        "        # No need to apply He initialization to fc2 because it is the output layer\n",
        "\n",
        "    def forward(self, x, return_features=False):\n",
        "        x = self.pool(self.leaky_relu(self.bn1(self.conv1(x))))\n",
        "        x = self.pool(self.leaky_relu(self.bn2(self.conv2(x))))\n",
        "        x = x.view(-1, 64 * 7 * 7)  # Flatten the tensor for the fully connected layer\n",
        "        features = self.leaky_relu(self.fc1(x))\n",
        "        if return_features:\n",
        "            return features\n",
        "        x = self.dropout(features)\n",
        "        x = self.fc2(x)\n",
        "        return x\n"
      ],
      "metadata": {
        "id": "5uqh3mX2kqRK"
      },
      "execution_count": null,
      "outputs": []
    },
    {
      "cell_type": "code",
      "source": [
        "\n",
        "# Reshape the data to [batch_size, channels, height, width]\n",
        "x_train_tensor_reshaped = x_train_tensor.view(-1, 1, 28, 28)\n",
        "x_val_tensor_reshaped = x_val_tensor.view(-1, 1, 28, 28)\n",
        "\n",
        "\n",
        "# Ensure the tensors are on the correct device (GPU if available) before passing them through the model\n",
        "if torch.cuda.is_available():\n",
        "    x_train_tensor_reshaped = x_train_tensor_reshaped.to('cuda')\n",
        "    x_val_tensor_reshaped = x_val_tensor_reshaped.to('cuda')\n",
        "\n",
        "\n",
        "# Initialize the model and move it to the appropriate device\n",
        "model = ModifiedCNN()\n",
        "device = torch.device(\"cuda\" if torch.cuda.is_available() else \"cpu\")\n",
        "model.to(device)\n",
        "\n",
        "# Initialize the loss function and optimizer\n",
        "criterion = nn.CrossEntropyLoss()\n",
        "optimizer = optim.Adam(model.parameters(), lr=0.001)\n",
        "\n",
        "# Prepare DataLoader for training and validation data\n",
        "train_dataset = TensorDataset(x_train_tensor_reshaped, y_train_tensor)\n",
        "val_dataset = TensorDataset(x_val_tensor_reshaped, y_val_tensor)\n",
        "\n",
        "train_loader = DataLoader(dataset=train_dataset, batch_size=90, shuffle=True)\n",
        "val_loader = DataLoader(dataset=val_dataset, batch_size=90)"
      ],
      "metadata": {
        "id": "HwqdR4AJdkdc"
      },
      "execution_count": null,
      "outputs": []
    },
    {
      "cell_type": "code",
      "source": [
        "def calculate_accuracy(y_true, y_pred):\n",
        "    _, predicted = torch.max(y_pred, 1)\n",
        "    correct = (predicted == y_true).sum().item()\n",
        "    return correct / y_true.size(0)\n",
        "\n",
        "\n",
        "def plot_losses(train_losses, val_losses, learning_rates):\n",
        "    epochs = range(1, len(train_losses) + 1)\n",
        "\n",
        "    fig, ax1 = plt.subplots(figsize=(10, 5))\n",
        "\n",
        "    ax1.set_xlabel('Epochs')\n",
        "    ax1.set_ylabel('Loss', color='tab:red')\n",
        "    ax1.plot(epochs, train_losses, 'bo-', label='Training loss')\n",
        "    ax1.plot(epochs, val_losses, 'ro-', label='Validation loss')\n",
        "    ax1.tick_params(axis='y', labelcolor='tab:red')\n",
        "\n",
        "    ax2 = ax1.twinx()  # instantiate a second axes that shares the same x-axis\n",
        "    ax2.set_ylabel('Learning Rate', color='tab:blue')\n",
        "    ax2.plot(epochs, learning_rates, 'go-', label='Learning Rate')\n",
        "    ax2.tick_params(axis='y', labelcolor='tab:blue')\n",
        "\n",
        "    fig.tight_layout()  # otherwise the right y-label is slightly clipped\n",
        "    plt.title('Training and Validation Loss and Learning Rate')\n",
        "    ax1.legend(loc='center left')\n",
        "    ax2.legend(loc='center right')\n",
        "    plt.show()\n",
        "\n",
        "# Save the best model\n",
        "best_model_state = None\n",
        "\n",
        "# Set up early stopping parameters\n",
        "patience = 5\n",
        "best_val_loss = float('inf')\n",
        "counter_early_stop = 0\n",
        "early_stop = False\n",
        "# Initialize the ReduceLROnPlateau scheduler\n",
        "scheduler = torch.optim.lr_scheduler.ReduceLROnPlateau(optimizer, mode='min', factor=0.3, patience=5, verbose=True)\n",
        "\n",
        "epochs = 25\n",
        "train_losses = []\n",
        "val_losses = []\n",
        "train_accuracies = []\n",
        "val_accuracies = []\n",
        "learning_rates = []  # List to store learning rates\n",
        "\n",
        "for epoch in range(epochs):\n",
        "    if early_stop:\n",
        "        break\n",
        "\n",
        "    model.train()\n",
        "    running_loss = 0.0\n",
        "    correct = 0\n",
        "    total = 0\n",
        "\n",
        "    for data, target in train_loader:\n",
        "        data, target = data.to(device), target.to(device)\n",
        "        optimizer.zero_grad()\n",
        "        output = model(data)\n",
        "        loss = criterion(output, target)\n",
        "        loss.backward()\n",
        "        optimizer.step()\n",
        "\n",
        "        running_loss += loss.item() * data.size(0)\n",
        "        correct += (output.argmax(1) == target).type(torch.float).sum().item()\n",
        "        total += target.size(0)\n",
        "\n",
        "    train_loss = running_loss / len(train_loader.dataset)\n",
        "    train_accuracy = correct / total\n",
        "    train_losses.append(train_loss)\n",
        "    train_accuracies.append(train_accuracy)\n",
        "\n",
        "    model.eval()\n",
        "    running_loss = 0.0\n",
        "    correct = 0\n",
        "    total = 0\n",
        "\n",
        "    with torch.no_grad():\n",
        "      for data, target in val_loader:\n",
        "          data, target = data.to(device), target.to(device)\n",
        "          output = model(data)\n",
        "          loss = criterion(output, target)\n",
        "          running_loss += loss.item() * data.size(0)\n",
        "          correct += (output.argmax(1) == target).type(torch.float).sum().item()\n",
        "          total += target.size(0)\n",
        "\n",
        "    val_loss = running_loss / len(val_loader.dataset)\n",
        "    val_accuracy = correct / total\n",
        "    val_losses.append(val_loss)\n",
        "    val_accuracies.append(val_accuracy)\n",
        "    # Reduce LR if no improvement is seen in validation loss\n",
        "    scheduler.step(val_loss)\n",
        "\n",
        "\n",
        "    print(f'Epoch {epoch+1}/{epochs}')\n",
        "    print(f'Training Loss: {train_loss:.4f}, Training Accuracy: {train_accuracy:.4f}')\n",
        "    print(f'Validation Loss: {val_loss:.4f}, Validation Accuracy: {val_accuracy:.4f}')\n",
        "\n",
        "    # Check for learning rate adjustment\n",
        "    learning_rates.append(optimizer.param_groups[0]['lr'])  # Append the current learning rate\n",
        "\n",
        "    # Early stopping check\n",
        "    if val_loss < best_val_loss:\n",
        "      best_val_loss = val_loss\n",
        "      counter_early_stop = 0\n",
        "    else:\n",
        "        counter_early_stop += 1\n",
        "        if counter_early_stop >= patience:\n",
        "              print('Early stopping!')\n",
        "              early_stop = True\n",
        "              break\n",
        "\n",
        "\n",
        "# Plot the training and validation losses\n",
        "plot_losses(train_losses, val_losses, learning_rates)\n",
        "\n",
        "\n"
      ],
      "metadata": {
        "colab": {
          "base_uri": "https://localhost:8080/",
          "height": 1000
        },
        "id": "61kJZmKOdlhG",
        "outputId": "afd21067-0e7e-4d77-b7dd-9d349ab68290"
      },
      "execution_count": null,
      "outputs": [
        {
          "output_type": "stream",
          "name": "stdout",
          "text": [
            "Epoch 1/25\n",
            "Training Loss: 0.0041, Training Accuracy: 0.9986\n",
            "Validation Loss: 0.0450, Validation Accuracy: 0.9920\n",
            "Epoch 2/25\n",
            "Training Loss: 0.0040, Training Accuracy: 0.9985\n",
            "Validation Loss: 0.0458, Validation Accuracy: 0.9921\n",
            "Epoch 3/25\n",
            "Training Loss: 0.0024, Training Accuracy: 0.9991\n",
            "Validation Loss: 0.0548, Validation Accuracy: 0.9917\n",
            "Epoch 4/25\n",
            "Training Loss: 0.0027, Training Accuracy: 0.9991\n",
            "Validation Loss: 0.0438, Validation Accuracy: 0.9930\n",
            "Epoch 5/25\n",
            "Training Loss: 0.0052, Training Accuracy: 0.9983\n",
            "Validation Loss: 0.0475, Validation Accuracy: 0.9927\n",
            "Epoch 6/25\n",
            "Training Loss: 0.0038, Training Accuracy: 0.9987\n",
            "Validation Loss: 0.0479, Validation Accuracy: 0.9930\n",
            "Epoch 7/25\n",
            "Training Loss: 0.0022, Training Accuracy: 0.9993\n",
            "Validation Loss: 0.0440, Validation Accuracy: 0.9924\n",
            "Epoch 8/25\n",
            "Training Loss: 0.0037, Training Accuracy: 0.9990\n",
            "Validation Loss: 0.0552, Validation Accuracy: 0.9919\n",
            "Epoch 9/25\n",
            "Training Loss: 0.0025, Training Accuracy: 0.9992\n",
            "Validation Loss: 0.0445, Validation Accuracy: 0.9932\n",
            "Early stopping!\n"
          ]
        },
        {
          "output_type": "display_data",
          "data": {
            "text/plain": [
              "<Figure size 1000x500 with 2 Axes>"
            ],
            "image/png": "[encoded data removed]"
          },
          "metadata": {}
        }
      ]
    },
    {
      "cell_type": "code",
      "source": [
        "\n",
        "\n",
        "# List to hold the features and labels\n",
        "features_list = []\n",
        "labels_list = []\n",
        "\n",
        "with torch.no_grad():\n",
        "    for data, target in val_loader:\n",
        "        data, target = data.to(device), target.to(device)\n",
        "        features = model(data, return_features=True)\n",
        "        features_list.append(features.cpu().numpy())  # Move features to CPU and convert to numpy\n",
        "        labels_list.append(target.cpu().numpy())\n",
        "\n",
        "# Concatenate all features and labels\n",
        "features = np.concatenate(features_list, axis=0)\n",
        "labels = np.concatenate(labels_list, axis=0)"
      ],
      "metadata": {
        "id": "Yqge_9rDh9DX"
      },
      "execution_count": null,
      "outputs": []
    },
    {
      "cell_type": "code",
      "source": [
        "from sklearn.manifold import TSNE\n",
        "\n",
        "tsne = TSNE(n_components=2)\n",
        "tsne_results = tsne.fit_transform(features)\n",
        "\n",
        "plt.scatter(tsne_results[:, 0], tsne_results[:, 1], c=labels, cmap='viridis', alpha=0.5)\n",
        "plt.colorbar()\n",
        "plt.title('2D Visualization of CNN Features')\n",
        "plt.xlabel('Component 1')\n",
        "plt.ylabel('Component 2')\n",
        "plt.show()\n"
      ],
      "metadata": {
        "id": "CF1Qs0zYiNZP",
        "colab": {
          "base_uri": "https://localhost:8080/",
          "height": 472
        },
        "outputId": "b501e8bb-403d-481d-cc8e-9c7b40a325b8"
      },
      "execution_count": null,
      "outputs": [
        {
          "output_type": "display_data",
          "data": {
            "text/plain": [
              "<Figure size 640x480 with 2 Axes>"
            ],
            "image/png": "[encoded data removed]"
          },
          "metadata": {}
        }
      ]
    },
    {
      "cell_type": "code",
      "source": [
        "# Assuming model is already trained and available\n",
        "model.eval()  # Set the model to evaluation mode\n",
        "\n",
        "# Convert x_test_scaled to a PyTorch tensor\n",
        "x_test_tensor = torch.tensor(x_test.values, dtype=torch.float32)\n",
        "\n",
        "# Reshape your tensor to include a channel dimension\n",
        "x_test_tensor = x_test_tensor.view(-1, 1, 28, 28)  # Only for CNN, if images are 28x28\n",
        "\n",
        "# Move the tensor to the same device as the model\n",
        "if torch.cuda.is_available():\n",
        "    x_test_tensor = x_test_tensor.to('cuda')\n",
        "\n",
        "# Perform predictions\n",
        "with torch.no_grad():  # No need to track the gradients\n",
        "    output = model(x_test_tensor)\n",
        "\n",
        "# Get the predicted classes\n",
        "_, predicted_labels = torch.max(output, 1)\n",
        "\n",
        "# If you need to move the predictions back to CPU and convert to a numpy array\n",
        "predicted_labels = predicted_labels.cpu().numpy()\n",
        "\n",
        "# Now predicted_labels contains the predicted classes for each input in the test set\n",
        "# Convert the predictions to a DataFrame\n",
        "predictions_df = pd.DataFrame(pd.DataFrame({\n",
        "    \"Id\": range(1, len(predicted_labels) + 1),\n",
        "    \"Expected\": predicted_labels\n",
        "}))\n",
        "\n",
        "\n",
        "# Write the DataFrame to a CSV file\n",
        "predictions_df.to_csv('/content/drive/MyDrive/CIS_678/challenge_03/preds_cnn_leaky_dropout_lrsche_0330_1.csv', index=False)\n",
        "\n",
        "print(\"Predictions written to predictions.csv\")"
      ],
      "metadata": {
        "colab": {
          "base_uri": "https://localhost:8080/"
        },
        "id": "lZeV-z6YnJPC",
        "outputId": "ed105a60-e446-4e4b-db77-661f2702728c"
      },
      "execution_count": null,
      "outputs": [
        {
          "output_type": "stream",
          "name": "stdout",
          "text": [
            "Predictions written to predictions.csv\n"
          ]
        }
      ]
    },
    {
      "cell_type": "markdown",
      "source": [
        "# Experiments"
      ],
      "metadata": {
        "id": "GAmBUkmzavpF"
      }
    },
    {
      "cell_type": "markdown",
      "source": [
        "Throughout this challenge we employed different methods and strategies to improve our models."
      ],
      "metadata": {
        "id": "ZewFArMYa1pg"
      }
    },
    {
      "cell_type": "markdown",
      "source": [
        "## SGD Model\n",
        "\n",
        "This model performed well on the kaggle without any regularization techniques. However, the MNIST dataset is very well-behaved and clean and so we do not believe this model would generalize well on real world data.\n"
      ],
      "metadata": {
        "id": "tRNnnvr5Kt-S"
      }
    },
    {
      "cell_type": "code",
      "source": [
        "import torch\n",
        "import torch.nn as nn\n",
        "import torch.optim as optim\n",
        "from torch.utils.data import DataLoader, TensorDataset\n",
        "import pandas as pd\n",
        "import numpy as np\n",
        "import matplotlib.pyplot as plt\n",
        "\n",
        "# Split data into train and validation sets\n",
        "from sklearn.model_selection import train_test_split\n",
        "# Split data into train and validation sets\n",
        "X_train, X_val, y_train, y_val = train_test_split(x_train, y_array, test_size=0.2, random_state=42)\n",
        "\n",
        "# Convert data to PyTorch tensors\n",
        "X_train_tensor = torch.tensor(X_train, dtype=torch.float32)\n",
        "y_train_tensor = torch.tensor(y_train, dtype=torch.long)\n",
        "X_val_tensor = torch.tensor(X_val, dtype=torch.float32)\n",
        "y_val_tensor = torch.tensor(y_val, dtype=torch.long)\n",
        "X_test_tensor = torch.tensor(x_test, dtype=torch.float32)\n",
        "\n",
        "# Reshape input data to 4-dimensional format\n",
        "X_train_tensor = X_train_tensor.reshape(-1, 1, 28, 28)\n",
        "X_val_tensor = X_val_tensor.reshape(-1, 1, 28, 28)\n",
        "X_test_tensor = X_test_tensor.reshape(-1, 1, 28, 28)\n",
        "\n",
        "#\n",
        "\n",
        "# Create DataLoader for training and validation\n",
        "train_dataset = TensorDataset(X_train_tensor, y_train_tensor)\n",
        "val_dataset = TensorDataset(X_val_tensor, y_val_tensor)\n",
        "train_loader = DataLoader(train_dataset, batch_size=64, shuffle=True)\n",
        "val_loader = DataLoader(val_dataset, batch_size=64, shuffle=False)\n",
        "\n",
        "# Define a neural network model with CNN\n",
        "class CNNNet(nn.Module):\n",
        "    def __init__(self):\n",
        "        super(CNNNet, self).__init__()\n",
        "        self.conv1 = nn.Conv2d(1, 32, kernel_size=3, padding=1)\n",
        "        self.conv2 = nn.Conv2d(32, 64, kernel_size=3, padding=1)\n",
        "        self.pool = nn.MaxPool2d(2, 2)\n",
        "        self.fc1 = nn.Linear(64 * 7 * 7, 128)  # Adjust the input size based on the output size of conv layers\n",
        "        self.fc2 = nn.Linear(128, 10)\n",
        "\n",
        "    def forward(self, x):\n",
        "        x = self.pool(nn.functional.relu(self.conv1(x)))\n",
        "        x = self.pool(nn.functional.relu(self.conv2(x)))\n",
        "        x = x.view(-1, 64 * 7 * 7)  # Flatten the output for fully connected layers\n",
        "        x = nn.functional.relu(self.fc1(x))\n",
        "        x = self.fc2(x)\n",
        "        return x\n",
        "\n",
        "# Instantiate the CNN model\n",
        "cnn_model = CNNNet()\n",
        "\n",
        "# Define loss function and optimizer\n",
        "criterion = nn.CrossEntropyLoss()\n",
        "optimizer = optim.SGD(cnn_model.parameters(), lr=0.6)\n",
        "\n",
        "# Learning rate scheduler\n",
        "scheduler = optim.lr_scheduler.StepLR(optimizer, step_size=5, gamma=0.1)\n",
        "\n",
        "# Training function with validation\n",
        "def train(model, train_loader, val_loader, optimizer, criterion, scheduler, epochs=20):\n",
        "    train_losses, val_losses = [], []\n",
        "    for epoch in range(epochs):\n",
        "        model.train()\n",
        "        running_loss = 0.0\n",
        "        for data, target in train_loader:\n",
        "            optimizer.zero_grad()\n",
        "            output = model(data)\n",
        "            loss = criterion(output, target.squeeze())\n",
        "            loss.backward()\n",
        "            optimizer.step()\n",
        "            running_loss += loss.item() * data.size(0)\n",
        "        epoch_loss = running_loss / len(train_loader.dataset)\n",
        "        train_losses.append(epoch_loss)\n",
        "\n",
        "        # Validation\n",
        "        model.eval()\n",
        "        val_loss = 0.0\n",
        "        correct = 0\n",
        "        total = 0\n",
        "        with torch.no_grad():\n",
        "            for data, target in val_loader:\n",
        "                output = model(data)\n",
        "                val_loss += criterion(output, target.squeeze()).item() * data.size(0)\n",
        "                _, predicted = torch.max(output, 1)\n",
        "                total += target.size(0)\n",
        "                correct += (predicted == target.squeeze()).sum().item()\n",
        "        val_loss /= len(val_loader.dataset)\n",
        "        val_losses.append(val_loss)\n",
        "\n",
        "        scheduler.step()\n",
        "        print(f\"Epoch {epoch + 1}/{epochs}, Train Loss: {epoch_loss:.4f}, Val Loss: {val_loss:.4f}, Val Acc: {100 * correct / total:.2f}%\")\n",
        "\n",
        "    return train_losses, val_losses\n",
        "\n",
        "# Train the CNN model\n",
        "train_losses, val_losses = train(cnn_model, train_loader, val_loader, optimizer, criterion, scheduler)\n",
        "\n",
        "# Plot training and validation losses\n",
        "plt.figure(figsize=(10, 5))\n",
        "plt.plot(range(1, len(train_losses) + 1), train_losses, label='Train Loss')\n",
        "plt.plot(range(1, len(val_losses) + 1), val_losses, label='Val Loss')\n",
        "plt.xlabel('Epochs')\n",
        "plt.ylabel('Loss')\n",
        "plt.title('Training and Validation Losses')\n",
        "plt.legend()\n",
        "plt.show()"
      ],
      "metadata": {
        "id": "GMrUe15dKszL"
      },
      "execution_count": null,
      "outputs": []
    },
    {
      "cell_type": "markdown",
      "source": [
        "## AutoEncoders"
      ],
      "metadata": {
        "id": "ac3w7rgtbw9j"
      }
    },
    {
      "cell_type": "markdown",
      "source": [
        "We tried building Autoencoders, however, the autoencoder was not successful in classifying the dataset very well as can be evidenced from the visualization.\n",
        "\n",
        "We do believe that Autoencoders may not be the right choice for this dataset as the dataset is not complex enough to warrant it and hence did not pursue this path any further."
      ],
      "metadata": {
        "id": "WEpguprnb0I-"
      }
    },
    {
      "cell_type": "code",
      "source": [
        "\n",
        "# Create a TensorDataset for inputs and targets (which are the same for an autoencoder)\n",
        "dataset = TensorDataset(x_train_tensor, x_train_tensor)\n",
        "val_dataset = TensorDataset(x_val_tensor, x_val_tensor)\n",
        "\n",
        "# Create a DataLoader for your dataset\n",
        "batch_size = 128  # You can adjust the batch size\n",
        "dataloader = DataLoader(dataset, batch_size=batch_size, shuffle=True)\n",
        "val_loader = DataLoader(val_dataset, batch_size=batch_size)"
      ],
      "metadata": {
        "id": "Il_09G_ecndJ"
      },
      "execution_count": null,
      "outputs": []
    },
    {
      "cell_type": "code",
      "source": [
        "class Autoencoder(nn.Module):\n",
        "    def __init__(self):\n",
        "        super(Autoencoder, self).__init__()\n",
        "\n",
        "        # Encoder\n",
        "        # More simplified: only one hidden layer before bottleneck\n",
        "        self.encoder = nn.Sequential(\n",
        "            nn.Linear(784, 64),  # Directly reducing dimensionality to 64\n",
        "            nn.ReLU(),\n",
        "            nn.Linear(64, 32),  # Simplified bottleneck\n",
        "            nn.ReLU()\n",
        "        )\n",
        "\n",
        "        # Decoder\n",
        "        # Simplified: only one layer before restoring original dimension\n",
        "        self.decoder = nn.Sequential(\n",
        "            nn.Linear(32, 64),\n",
        "            nn.ReLU(),\n",
        "            nn.Linear(64, 784),\n",
        "            nn.Sigmoid()  # Ensuring output is in the range [0, 1]\n",
        "        )\n",
        "\n",
        "    def forward(self, x):\n",
        "        encoded = self.encoder(x)\n",
        "        decoded = self.decoder(encoded)\n",
        "        return decoded\n",
        "\n"
      ],
      "metadata": {
        "id": "fPXIcYjzcq8b"
      },
      "execution_count": null,
      "outputs": []
    },
    {
      "cell_type": "code",
      "source": [
        "autoencoder = Autoencoder()\n",
        "criterion = nn.MSELoss()  # Mean Squared Error Loss\n",
        "optimizer = optim.Adam(autoencoder.parameters(), lr=0.0001)  # Adam optimizer\n"
      ],
      "metadata": {
        "id": "-no8YB5Qcw_S"
      },
      "execution_count": null,
      "outputs": []
    },
    {
      "cell_type": "code",
      "source": [
        "# Training the autoencoder\n",
        "def train_autoencoder(autoencoder, train_loader, val_loader, num_epochs=200, patience=10):\n",
        "    # Assuming criterion and optimizer are defined outside this function\n",
        "    # You might need to pass them as arguments if they're not globally accessible\n",
        "\n",
        "    train_losses = []\n",
        "    val_losses = []\n",
        "    best_val_loss = float('inf')\n",
        "    counter_early_stop = 0\n",
        "    early_stop = False\n",
        "\n",
        "    for epoch in range(num_epochs):\n",
        "        autoencoder.train()  # Set the model to training mode\n",
        "        running_loss_train = 0.0\n",
        "\n",
        "        for imgs, _ in train_loader:  # Assuming labels are not needed\n",
        "            imgs = imgs.float()\n",
        "            if torch.cuda.is_available():\n",
        "                imgs = imgs.to('cuda')\n",
        "\n",
        "            output = autoencoder(imgs)\n",
        "            loss = criterion(output, imgs)\n",
        "\n",
        "            optimizer.zero_grad()\n",
        "            loss.backward()\n",
        "            optimizer.step()\n",
        "\n",
        "            running_loss_train += loss.item() * imgs.size(0)\n",
        "\n",
        "        epoch_loss_train = running_loss_train / len(train_loader.dataset)\n",
        "        train_losses.append(epoch_loss_train)\n",
        "\n",
        "        # Validation phase\n",
        "        autoencoder.eval()  # Set the model to evaluation mode\n",
        "        running_loss_val = 0.0\n",
        "        with torch.no_grad():\n",
        "            for imgs, _ in val_loader:  # Assuming labels are not needed\n",
        "                imgs = imgs.float()\n",
        "                if torch.cuda.is_available():\n",
        "                    imgs = imgs.to('cuda')\n",
        "\n",
        "                output = autoencoder(imgs)\n",
        "                loss = criterion(output, imgs)\n",
        "\n",
        "                running_loss_val += loss.item() * imgs.size(0)\n",
        "\n",
        "        epoch_loss_val = running_loss_val / len(val_loader.dataset)\n",
        "        val_losses.append(epoch_loss_val)\n",
        "\n",
        "        print(f'Epoch [{epoch+1}/{num_epochs}], Train Loss: {epoch_loss_train:.4f}, Val Loss: {epoch_loss_val:.4f}')\n",
        "\n",
        "        # Early stopping logic\n",
        "        if epoch_loss_val < best_val_loss:\n",
        "            best_val_loss = epoch_loss_val\n",
        "            counter_early_stop = 0\n",
        "        else:\n",
        "            counter_early_stop += 1\n",
        "            if counter_early_stop >= patience:\n",
        "                print(f'Early stopping triggered at epoch {epoch+1}.')\n",
        "                early_stop = True\n",
        "                break\n",
        "\n",
        "    return train_losses, val_losses\n",
        "\n",
        "# Assuming you have already defined and initialized 'autoencoder', 'criterion', and 'optimizer'\n",
        "# Also assuming 'train_loader' and 'val_loader' are your DataLoader instances for training and validation datasets\n",
        "\n",
        "# Example usage\n",
        "num_epochs = 50\n",
        "patience = 5\n",
        "train_losses, val_losses = train_autoencoder(autoencoder, dataloader, val_loader, num_epochs, patience)\n",
        "\n",
        "# Function to plot training and validation losses\n",
        "def plot_losses(train_losses, val_losses):\n",
        "    plt.figure(figsize=(10, 5))\n",
        "    plt.plot(train_losses, label='Train Loss')\n",
        "    plt.plot(val_losses, label='Validation Loss')\n",
        "    plt.xlabel('Epoch')\n",
        "    plt.ylabel('Loss')\n",
        "    plt.title('Training and Validation Loss')\n",
        "    plt.legend()\n",
        "    plt.show()\n",
        "\n",
        "plot_losses(train_losses, val_losses)"
      ],
      "metadata": {
        "id": "U6hdneuGcyEM"
      },
      "execution_count": null,
      "outputs": []
    },
    {
      "cell_type": "code",
      "source": [
        "# After training the autoencoder\n",
        "autoencoder.eval()\n",
        "\n",
        "# Extract encoded features for visualization\n",
        "with torch.no_grad():\n",
        "    encoded_features = autoencoder.encoder(x_val_tensor).cpu().numpy()\n",
        "\n",
        "# For a 2D or 3D encoded space, directly plot the features (adjust indices for higher dimensions)\n",
        "if encoded_features.shape[1] == 2:  # If you have a 2D latent space\n",
        "    plt.scatter(encoded_features[:, 0], encoded_features[:, 1], c=y_val, cmap='viridis')\n",
        "    plt.colorbar()\n",
        "    plt.show()\n",
        "elif encoded_features.shape[1] == 3:  # If you have a 3D latent space\n",
        "    from mpl_toolkits.mplot3d import Axes3D\n",
        "    ax = plt.figure().add_subplot(projection='3d')\n",
        "    ax.scatter(encoded_features[:, 0], encoded_features[:, 1], encoded_features[:, 2], c=y_val, cmap='viridis')\n",
        "    plt.show()\n",
        "\n",
        "# Use t-SNE for higher-dimensional spaces\n",
        "if encoded_features.shape[1] > 3:\n",
        "    from sklearn.manifold import TSNE\n",
        "    tsne = TSNE(n_components=2)\n",
        "    tsne_results = tsne.fit_transform(encoded_features)\n",
        "    plt.scatter(tsne_results[:, 0], tsne_results[:, 1], c=y_val, cmap='viridis')\n",
        "    plt.colorbar()\n",
        "    plt.show()"
      ],
      "metadata": {
        "id": "RrVSH1fUc5hh"
      },
      "execution_count": null,
      "outputs": []
    },
    {
      "cell_type": "markdown",
      "source": [
        "## ResNets"
      ],
      "metadata": {
        "id": "H-YkuyVXe8Ag"
      }
    },
    {
      "cell_type": "markdown",
      "source": [
        "Residual Networks (ResNets) are a type of deep neural networks that makes use of skip connections by stacking the residual blocks together.\n",
        "They help in stabilizing the gradient flow as well as enable us to understand partial logic by selectively passing of identity."
      ],
      "metadata": {
        "id": "iSg9g3g6ojw5"
      }
    },
    {
      "cell_type": "code",
      "source": [
        "class ResidualBlock(nn.Module):\n",
        "    def __init__(self, in_channels, out_channels, stride=1, downsample=None):\n",
        "        super(ResidualBlock, self).__init__()\n",
        "        self.conv1 = nn.Conv2d(in_channels, out_channels, kernel_size=3,\n",
        "                               stride=stride, padding=1, bias=False)\n",
        "        self.bn1 = nn.BatchNorm2d(out_channels)\n",
        "        self.relu = nn.ReLU(inplace=True)\n",
        "        self.conv2 = nn.Conv2d(out_channels, out_channels, kernel_size=3,\n",
        "                               stride=1, padding=1, bias=False)\n",
        "        self.bn2 = nn.BatchNorm2d(out_channels)\n",
        "        self.downsample = downsample\n",
        "\n",
        "    def forward(self, x):\n",
        "        residual = x\n",
        "        out = self.conv1(x)\n",
        "        out = self.bn1(out)\n",
        "        out = self.relu(out)\n",
        "        out = self.conv2(out)\n",
        "        out = self.bn2(out)\n",
        "        if self.downsample:\n",
        "            residual = self.downsample(x)\n",
        "        out += residual\n",
        "        out = self.relu(out)\n",
        "        return out\n",
        "\n",
        "class ResNet(nn.Module):\n",
        "    def __init__(self):\n",
        "        super(ResNet, self).__init__()\n",
        "        # Initial input conv\n",
        "        self.conv1 = nn.Conv2d(1, 32, kernel_size=3, stride=1, padding=1, bias=False)\n",
        "        self.bn1 = nn.BatchNorm2d(32)\n",
        "        self.relu = nn.ReLU(inplace=True)\n",
        "        self.layer1 = self.make_layer(ResidualBlock, 32, 32, 2)\n",
        "        self.layer2 = self.make_layer(ResidualBlock, 32, 64, 2)\n",
        "        self.layer3 = self.make_layer(ResidualBlock, 64, 128, 2)\n",
        "        self.layer4 = self.make_layer(ResidualBlock, 128, 256, 2)\n",
        "        self.avg_pool = nn.AdaptiveAvgPool2d((1, 1))\n",
        "        self.fc = nn.Linear(256, 10)\n",
        "\n",
        "    def make_layer(self, block, in_channels, out_channels, blocks, stride=1):\n",
        "        downsample = None\n",
        "        if (stride != 1) or (in_channels != out_channels):\n",
        "            downsample = nn.Sequential(\n",
        "                nn.Conv2d(in_channels, out_channels, kernel_size=1, stride=stride, bias=False),\n",
        "                nn.BatchNorm2d(out_channels))\n",
        "        layers = []\n",
        "        layers.append(block(in_channels, out_channels, stride, downsample))\n",
        "        for i in range(1, blocks):\n",
        "            layers.append(block(out_channels, out_channels))\n",
        "        return nn.Sequential(*layers)\n",
        "\n",
        "    def forward(self, x):\n",
        "        out = self.conv1(x)\n",
        "        out = self.bn1(out)\n",
        "        out = self.relu(out)\n",
        "        out = self.layer1(out)\n",
        "        out = self.layer2(out)\n",
        "        out = self.layer3(out)\n",
        "        out = self.layer4(out)\n",
        "        out = self.avg_pool(out)\n",
        "        out = out.view(out.size(0), -1)\n",
        "        out = self.fc(out)\n",
        "        return out\n",
        "\n",
        "model = ResNet()"
      ],
      "metadata": {
        "id": "jwmWmiH3e_A1"
      },
      "execution_count": null,
      "outputs": []
    },
    {
      "cell_type": "code",
      "source": [
        "\n",
        "# Reshape the data to [batch_size, channels, height, width]\n",
        "x_train_tensor_reshaped = x_train_tensor.view(-1, 1, 28, 28)\n",
        "x_val_tensor_reshaped = x_val_tensor.view(-1, 1, 28, 28)\n",
        "\n",
        "# Forward pass through the encoder only\n",
        "# Ensure the tensors are on the correct device (GPU if available) before passing them through the model\n",
        "if torch.cuda.is_available():\n",
        "    x_train_tensor_reshaped = x_train_tensor_reshaped.to('cuda')\n",
        "    x_val_tensor_reshaped = x_val_tensor_reshaped.to('cuda')\n",
        "\n",
        "\n",
        "# Initialize the model and move it to the appropriate device\n",
        "model = ResNet()\n",
        "device = torch.device(\"cuda\" if torch.cuda.is_available() else \"cpu\")\n",
        "model.to(device)\n",
        "\n",
        "# Initialize the loss function and optimizer\n",
        "criterion = nn.CrossEntropyLoss()\n",
        "optimizer = optim.AdamW(model.parameters(), lr=0.001, weight_decay=0.01)\n",
        "\n",
        "# Prepare DataLoader for training and validation data\n",
        "train_dataset = TensorDataset(x_train_tensor_reshaped, y_train_tensor)\n",
        "val_dataset = TensorDataset(x_val_tensor_reshaped, y_val_tensor)\n",
        "\n",
        "train_loader = DataLoader(dataset=train_dataset, batch_size=256, shuffle=True)\n",
        "val_loader = DataLoader(dataset=val_dataset, batch_size=256)"
      ],
      "metadata": {
        "id": "FbFnPv2afGLA"
      },
      "execution_count": null,
      "outputs": []
    },
    {
      "cell_type": "code",
      "source": [
        "def calculate_accuracy(y_true, y_pred):\n",
        "    _, predicted = torch.max(y_pred, 1)\n",
        "    correct = (predicted == y_true).sum().item()\n",
        "    return correct / y_true.size(0)\n",
        "\n",
        "def plot_losses(train_losses, val_losses, learning_rates):\n",
        "    epochs = range(1, len(train_losses) + 1)\n",
        "\n",
        "    fig, ax1 = plt.subplots(figsize=(10, 5))\n",
        "\n",
        "    ax1.set_xlabel('Epochs')\n",
        "    ax1.set_ylabel('Loss', color='tab:red')\n",
        "    ax1.plot(epochs, train_losses, 'bo-', label='Training loss')\n",
        "    ax1.plot(epochs, val_losses, 'ro-', label='Validation loss')\n",
        "    ax1.tick_params(axis='y', labelcolor='tab:red')\n",
        "\n",
        "    ax2 = ax1.twinx()  # instantiate a second axes that shares the same x-axis\n",
        "    ax2.set_ylabel('Learning Rate', color='tab:blue')  # we already handled the x-label with ax1\n",
        "    ax2.plot(epochs, learning_rates, 'go-', label='Learning Rate')\n",
        "    ax2.tick_params(axis='y', labelcolor='tab:blue')\n",
        "\n",
        "    fig.tight_layout()  # otherwise the right y-label is slightly clipped\n",
        "    plt.title('Training and Validation Loss and Learning Rate')\n",
        "    ax1.legend(loc='center left')\n",
        "    ax2.legend(loc='center right')\n",
        "    plt.show()\n",
        "\n",
        "# Set up early stopping parameters\n",
        "epochs = 25\n",
        "patience = 5\n",
        "best_val_loss = float('inf')\n",
        "counter_early_stop = 0\n",
        "early_stop = False\n",
        "# Initialize the ReduceLROnPlateau scheduler\n",
        "scheduler = OneCycleLR(optimizer, max_lr=0.01, steps_per_epoch=len(train_loader), epochs=epochs)\n",
        "\n",
        "\n",
        "train_losses = []\n",
        "val_losses = []\n",
        "train_accuracies = []\n",
        "val_accuracies = []\n",
        "learning_rates = []  # List to store learning rates\n",
        "#writer = SummaryWriter('runs/mnist')\n",
        "\n",
        "for epoch in range(epochs):\n",
        "    if early_stop:\n",
        "        break\n",
        "\n",
        "    model.train()\n",
        "    running_loss = 0.0\n",
        "    correct = 0\n",
        "    total = 0\n",
        "\n",
        "    for data, target in train_loader:\n",
        "        data, target = data.to(device), target.to(device)\n",
        "        optimizer.zero_grad()\n",
        "        output = model(data)\n",
        "        loss = criterion(output, target)\n",
        "        loss.backward()\n",
        "        optimizer.step()\n",
        "\n",
        "        running_loss += loss.item() * data.size(0)\n",
        "        correct += (output.argmax(1) == target).type(torch.float).sum().item()\n",
        "        total += target.size(0)\n",
        "\n",
        "    train_loss = running_loss / len(train_loader.dataset)\n",
        "    train_accuracy = correct / total\n",
        "    train_losses.append(train_loss)\n",
        "    train_accuracies.append(train_accuracy)\n",
        "    # Log training metrics\n",
        "    # writer.add_scalar('Loss/Train', train_loss, epoch)\n",
        "    # writer.add_scalar('Accuracy/Train', train_accuracy, epoch)\n",
        "\n",
        "    model.eval()\n",
        "    running_loss = 0.0\n",
        "    correct = 0\n",
        "    total = 0\n",
        "\n",
        "    with torch.no_grad():\n",
        "        for data, target in val_loader:\n",
        "            data, target = data.to(device), target.to(device)\n",
        "            output = model(data)\n",
        "            loss = criterion(output, target)\n",
        "            running_loss += loss.item() * data.size(0)\n",
        "            correct += (output.argmax(1) == target).type(torch.float).sum().item()\n",
        "            total += target.size(0)\n",
        "\n",
        "    val_loss = running_loss / len(val_loader.dataset)\n",
        "    val_accuracy = correct / total\n",
        "    val_losses.append(val_loss)\n",
        "    val_accuracies.append(val_accuracy)\n",
        "    # Reduce LR if no improvement is seen in validation loss\n",
        "    scheduler.step()\n",
        "    learning_rates.append(optimizer.param_groups[0]['lr'])\n",
        "\n",
        "    print(f'Epoch {epoch+1}/{epochs}')\n",
        "    print(f'Training Loss: {train_loss:.4f}, Training Accuracy: {train_accuracy:.4f}')\n",
        "    print(f'Validation Loss: {val_loss:.4f}, Validation Accuracy: {val_accuracy:.4f}')\n",
        "\n",
        "    # Early stopping\n",
        "    if val_loss < best_val_loss:\n",
        "        best_val_loss = val_loss\n",
        "        counter_early_stop = 0\n",
        "    else:\n",
        "        counter_early_stop += 1\n",
        "        if counter_early_stop >= patience:\n",
        "            print('Early stopping!')\n",
        "            early_stop = True\n",
        "    # Log validation metrics\n",
        "    # writer.add_scalar('Loss/Validation', val_loss, epoch)\n",
        "    # writer.add_scalar('Accuracy/Validation', val_accuracy, epoch)\n",
        "    #%tensorboard --logdir runs\n",
        "# Plot the training and validation losses\n",
        "plot_losses(train_losses, val_losses, learning_rates)\n",
        "\n"
      ],
      "metadata": {
        "id": "pFssosAbfKGD"
      },
      "execution_count": null,
      "outputs": []
    },
    {
      "cell_type": "markdown",
      "source": [
        "# Results"
      ],
      "metadata": {
        "id": "AoVWC7t2d8hh"
      }
    },
    {
      "cell_type": "markdown",
      "source": [
        "\n",
        "In our exploration of the MNIST dataset classification challenge, we gleaned several insightful takeaways that have both broadened our understanding and sharpened our skills in machine learning:\n",
        "\n",
        "Convolutional Neural Networks (CNNs) demonstrated remarkable efficiency, reaffirming their robustness in handling image data.\n",
        "Although PyTorch presents an initial learning curve, its flexibility and comprehensive framework proved invaluable in constructing both efficient and powerful deep neural networks.\n",
        "The concept and implementation of Residual Networks (ResNets) were key highlights, showcasing the impact of innovative architecture in deep learning.\n",
        "Our journey underscored the importance of model simplicity and efficiency, reminding us that a well-designed, streamlined model often outperforms a complex one.\n",
        "This project has not only enriched our practical knowledge but has also emphasized the philosophy that in machine learning, simplicity and clarity can lead to exceptional performance.\n"
      ],
      "metadata": {
        "id": "H93heg6NeAeq"
      }
    },
    {
      "cell_type": "markdown",
      "source": [
        "# Conclusion"
      ],
      "metadata": {
        "id": "mYV7jaDTf-W4"
      }
    },
    {
      "cell_type": "markdown",
      "source": [
        "Navigating the nuances of the MNIST dataset has reinforced a vital lesson: more isn't always better when it comes to model complexity. In the world of machine learning, there's a sweet spot between iterating for improvement and spinning into over-engineering. Knowing when to put down the tools and step back is just as crucial as building the solution. After all, sometimes the best move is to keep it simple and let the data speak for itself."
      ],
      "metadata": {
        "id": "9WdQwQMHgAeR"
      }
    }
  ]
}
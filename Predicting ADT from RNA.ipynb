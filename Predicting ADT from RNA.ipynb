{
  "nbformat": 4,
  "nbformat_minor": 0,
  "metadata": {
    "colab": {
      "provenance": [],
      "gpuType": "T4"
    },
    "kernelspec": {
      "name": "python3",
      "display_name": "Python 3"
    },
    "language_info": {
      "name": "python"
    },
    "accelerator": "GPU"
  },
  "cells": [
    {
      "cell_type": "markdown",
      "source": [
        "# Predicting ADT Utilizing Multimodal Diagonal Cross-Generation\n",
        "\n",
        "Jude Nogotey"
      ],
      "metadata": {
        "id": "Fn1A-IrYJ0b_"
      }
    },
    {
      "cell_type": "markdown",
      "source": [
        "#Introduction"
      ],
      "metadata": {
        "id": "SXHsJu8TLg8P"
      }
    },
    {
      "cell_type": "markdown",
      "source": [
        "This challenge requires us to train an AI model that can independently learn about information from multimodal single-cell sequencing data and use information from one modality to predict the other. In this challenge, data from single-cell ADT and RNA sequencing is used. In this type of sequencing, a tissue sample such as blood is dissociated into a suspension of individual cells which are then passed through a sequencer one by one. In each cell, the expression of all genes (RNA transcripts) can be measured, and the abundance of antibodies binding to target proteins can also be simultaneously measured (antibody-derived tags, ADT). This gives a matrix where rows are RNA or ADT features and columns are single cells. Because RNA makes protein in our cells, there are inherent relationships between RNA and protein, but also differences.\n",
        "The task is to predict ADT for the corresponding test RNA samples while your model never jointly encounters RNA and ADT"
      ],
      "metadata": {
        "id": "CMiVfwnlMEVk"
      }
    },
    {
      "cell_type": "markdown",
      "source": [
        "# **Approach**"
      ],
      "metadata": {
        "id": "O3UMM3sCL-_H"
      }
    },
    {
      "cell_type": "markdown",
      "source": [
        "## Dataset Description\n",
        "Datasets given for this challenge include training data from the RNA modality, train_rna.csv (5000 samples, 10000 features), training data from different samples in the ADT modality, train_adt.csv (5000 samples, 25 features), and test data from the RNA modality, test_rna.csv (2000 samples, 10000 features). In addition, there is an \"evaluation\" data from the RNA and ADT modalities, eval_rna.csv and eval_adt.csv (1000 samples, 10000 features in RNA, 25 features in ADT) that can be used to evaluate multimodal prediction but may not train on it."
      ],
      "metadata": {
        "id": "g6jXL9q6Q_0T"
      }
    },
    {
      "cell_type": "markdown",
      "source": [
        "## General Steps Taken to Implement Models to Solve Challenge\n",
        "- Load the training data for the RNA and ADT modalities.\n",
        "\n",
        "- Define the architecture of the AI model.\n",
        "\n",
        "- Implement the training loop to train the model.\n",
        "\n",
        "- Load the test data for the RNA modality.\n",
        "\n",
        "- Use the trained model to predict ADT for the test RNA samples."
      ],
      "metadata": {
        "id": "6zpOfedBNsJ4"
      }
    },
    {
      "cell_type": "markdown",
      "source": [
        "## Set-up"
      ],
      "metadata": {
        "id": "YWQliaN1NsvM"
      }
    },
    {
      "cell_type": "code",
      "source": [
        "# Loading Libraries\n",
        "import torch\n",
        "import torch.nn as nn\n",
        "import torch.optim as optim\n",
        "import pandas as pd\n",
        "import numpy as np\n",
        "from sklearn.preprocessing import MinMaxScaler\n",
        "from sklearn.model_selection import train_test_split\n",
        "import matplotlib.pyplot as plt\n"
      ],
      "metadata": {
        "id": "p5QdLiwYWiOY"
      },
      "execution_count": null,
      "outputs": []
    },
    {
      "cell_type": "code",
      "source": [
        "# Loading Data\n",
        "train_rna = pd.read_csv('train_RNA.csv')\n",
        "train_adt = pd.read_csv('train_ADT.csv')\n",
        "test_rna = pd.read_csv('test_RNA.csv')\n"
      ],
      "metadata": {
        "id": "rLWU3VY4Z7S4"
      },
      "execution_count": null,
      "outputs": []
    },
    {
      "cell_type": "markdown",
      "source": [
        "### Implementation of Models"
      ],
      "metadata": {
        "id": "8oXfw4z94NMu"
      }
    },
    {
      "cell_type": "markdown",
      "source": [
        "### Model 1 - Multimodal Fusion Autoencoder"
      ],
      "metadata": {
        "id": "l2LZYgynbKua"
      }
    },
    {
      "cell_type": "markdown",
      "source": [
        "The provided code below implements a Multimodal Fusion Autoencoder (MFAE) for learning representations from both RNA and ADT modalities. It first preprocesses the input data, scaling it using MinMaxScaler and converting it into PyTorch tensors. The MFAE architecture consists of separate encoder layers for each modality, followed by a shared decoder layer. The model is trained using binary cross-entropy loss and Kullback-Leibler divergence loss for each modality's latent representation. The training loop runs for a specified number of epochs, optimizing the model parameters with the Adam optimizer. Additionally, the code calculates and tracks both training and validation loss to monitor model performance over epochs. Finally, it visualizes the training and validation loss using matplotlib to assess model convergence and generalization. This model provided a best kaggle score of **0.6951** after several hyperparameter tuning."
      ],
      "metadata": {
        "id": "K5xPbENhbfvI"
      }
    },
    {
      "cell_type": "code",
      "source": [
        "import torch\n",
        "import torch.nn as nn\n",
        "import torch.optim as optim\n",
        "import pandas as pd\n",
        "import numpy as np\n",
        "from sklearn.preprocessing import MinMaxScaler\n",
        "from sklearn.model_selection import train_test_split\n",
        "import matplotlib.pyplot as plt\n",
        "\n",
        "# Define the Multimodal Fusion Autoencoder class\n",
        "class MultimodalFusionAE(nn.Module):\n",
        "    def __init__(self, input_dim_rna, input_dim_adt, encoding_dim):\n",
        "        super(MultimodalFusionAE, self).__init__()\n",
        "        # Encoder layers for RNA modality\n",
        "        self.fc1_rna = nn.Linear(input_dim_rna, 128)\n",
        "        self.fc21_rna = nn.Linear(128, encoding_dim)\n",
        "        self.fc22_rna = nn.Linear(128, encoding_dim)\n",
        "        # Encoder layers for ADT modality\n",
        "        self.fc1_adt = nn.Linear(input_dim_adt, 128)\n",
        "        self.fc21_adt = nn.Linear(128, encoding_dim)\n",
        "        self.fc22_adt = nn.Linear(128, encoding_dim)\n",
        "        # Decoder layers\n",
        "        self.fc3 = nn.Linear(2*encoding_dim, 128)\n",
        "        self.fc4 = nn.Linear(128, input_dim_rna + input_dim_adt)  # Concatenate RNA and ADT data\n",
        "\n",
        "    def encode(self, x_rna, x_adt):\n",
        "        h1_rna = torch.relu(self.fc1_rna(x_rna))\n",
        "        mu_rna, logvar_rna = self.fc21_rna(h1_rna), self.fc22_rna(h1_rna)\n",
        "        h1_adt = torch.relu(self.fc1_adt(x_adt))\n",
        "        mu_adt, logvar_adt = self.fc21_adt(h1_adt), self.fc22_adt(h1_adt)\n",
        "        return mu_rna, logvar_rna, mu_adt, logvar_adt\n",
        "\n",
        "    def reparameterize(self, mu, logvar):\n",
        "        std = torch.exp(0.5*logvar)\n",
        "        eps = torch.randn_like(std)\n",
        "        return mu + eps*std\n",
        "\n",
        "    def decode(self, z):\n",
        "        h3 = torch.relu(self.fc3(z))\n",
        "        return torch.sigmoid(self.fc4(h3))\n",
        "\n",
        "    def forward(self, x_rna, x_adt):\n",
        "        mu_rna, logvar_rna, mu_adt, logvar_adt = self.encode(x_rna, x_adt)\n",
        "        z_rna = self.reparameterize(mu_rna, logvar_rna)\n",
        "        z_adt = self.reparameterize(mu_adt, logvar_adt)\n",
        "        z = torch.cat((z_rna, z_adt), dim=1)  # Concatenate latent representations\n",
        "        return self.decode(z), mu_rna, logvar_rna, mu_adt, logvar_adt\n",
        "\n",
        "\n",
        "\n",
        "# Data preprocessing\n",
        "scaler_rna = MinMaxScaler()\n",
        "scaler_adt = MinMaxScaler()\n",
        "\n",
        "scaled_train_rna = scaler_rna.fit_transform(train_rna.T)\n",
        "scaled_train_adt = scaler_adt.fit_transform(train_adt.T)\n",
        "scaled_test_rna = scaler_rna.fit_transform(test_rna.T)\n",
        "\n",
        "# Train-test split\n",
        "train_rna1, val_rna, train_adt1, val_adt = train_test_split(scaled_train_rna, scaled_train_adt, test_size=0.2)\n",
        "\n",
        "# Convert data to PyTorch tensors\n",
        "train_rna_tensor = torch.tensor(train_rna1, dtype=torch.float32)\n",
        "train_adt_tensor = torch.tensor(train_adt1, dtype=torch.float32)\n",
        "val_rna_tensor = torch.tensor(val_rna, dtype=torch.float32)\n",
        "val_adt_tensor = torch.tensor(val_adt, dtype=torch.float32)\n",
        "test_rna_tensor = torch.tensor(scaled_test_rna, dtype=torch.float32)\n",
        "\n",
        "# Define hyperparameters\n",
        "input_dim_rna = train_rna.T.shape[1]\n",
        "input_dim_adt = train_adt.T.shape[1]\n",
        "encoding_dim = 60\n",
        "num_epochs = 50\n",
        "batch_size = 512\n",
        "learning_rate = 0.01\n",
        "\n",
        "# Initialize the Multimodal Fusion Autoencoder model\n",
        "model = MultimodalFusionAE(input_dim_rna, input_dim_adt, encoding_dim)\n",
        "\n",
        "# Define loss function\n",
        "def loss_function(recon_x, x, mu_rna, logvar_rna, mu_adt, logvar_adt):\n",
        "    BCE = nn.functional.binary_cross_entropy(recon_x, x, reduction='sum')\n",
        "    KLD_rna = -0.5 * torch.sum(1 + logvar_rna - mu_rna.pow(2) - logvar_rna.exp())\n",
        "    KLD_adt = -0.5 * torch.sum(1 + logvar_adt - mu_adt.pow(2) - logvar_adt.exp())\n",
        "    return BCE + KLD_rna + KLD_adt\n",
        "\n",
        "# Define optimizer\n",
        "optimizer = optim.Adam(model.parameters(), lr=learning_rate)\n",
        "\n",
        "# Training loop\n",
        "train_losses = []\n",
        "val_losses = []\n",
        "for epoch in range(num_epochs):\n",
        "    model.train()\n",
        "    train_loss = 0.0\n",
        "    for i in range(0, len(train_rna_tensor), batch_size):\n",
        "        optimizer.zero_grad()\n",
        "        recon_batch, mu_rna, logvar_rna, mu_adt, logvar_adt = model(train_rna_tensor[i:i+batch_size], train_adt_tensor[i:i+batch_size])\n",
        "        loss = loss_function(recon_batch, torch.cat((train_rna_tensor[i:i+batch_size], train_adt_tensor[i:i+batch_size]), dim=1), mu_rna, logvar_rna, mu_adt, logvar_adt)\n",
        "        loss.backward()\n",
        "        optimizer.step()\n",
        "        train_loss += loss.item()\n",
        "\n",
        "    # Calculate validation loss\n",
        "    val_loss = 0.0\n",
        "    with torch.no_grad():\n",
        "        for i in range(0, len(val_rna_tensor), batch_size):\n",
        "            recon_batch, mu_rna, logvar_rna, mu_adt, logvar_adt = model(val_rna_tensor[i:i+batch_size], val_adt_tensor[i:i+batch_size])\n",
        "            loss = loss_function(recon_batch, torch.cat((val_rna_tensor[i:i+batch_size], val_adt_tensor[i:i+batch_size]), dim=1), mu_rna, logvar_rna, mu_adt, logvar_adt)\n",
        "            val_loss += loss.item()\n",
        "\n",
        "    # Print progress\n",
        "    print(f'Epoch {epoch+1}/{num_epochs}, Train Loss: {train_loss/len(train_rna_tensor):.4f}, Val Loss: {val_loss/len(val_rna_tensor):.4f}')\n",
        "    train_losses.append(train_loss/len(train_rna_tensor))\n",
        "    val_losses.append(val_loss/len(val_rna_tensor))\n",
        "\n",
        "# Plot training and validation loss\n",
        "plt.plot(train_losses, label='Train Loss')\n",
        "plt.plot(val_losses, label='Validation Loss')\n",
        "plt.xlabel('Epoch')\n",
        "plt.ylabel('Loss')\n",
        "plt.title('Training and Validation Loss')\n",
        "plt.legend()\n",
        "plt.show()\n"
      ],
      "metadata": {
        "colab": {
          "base_uri": "https://localhost:8080/",
          "height": 1000
        },
        "id": "5pjOUsW0aKdi",
        "outputId": "691acc9e-7c6a-407e-b07f-8fd7a9d72765"
      },
      "execution_count": null,
      "outputs": [
        {
          "output_type": "stream",
          "name": "stdout",
          "text": [
            "Epoch 1/50, Train Loss: 3210.8234, Val Loss: 1733.3581\n",
            "Epoch 2/50, Train Loss: 1652.8761, Val Loss: 1634.1564\n",
            "Epoch 3/50, Train Loss: 1600.4052, Val Loss: 1604.3837\n",
            "Epoch 4/50, Train Loss: 1577.5167, Val Loss: 1591.5661\n",
            "Epoch 5/50, Train Loss: 1564.2649, Val Loss: 1574.7571\n",
            "Epoch 6/50, Train Loss: 1555.3680, Val Loss: 1566.6702\n",
            "Epoch 7/50, Train Loss: 1546.5029, Val Loss: 1559.1257\n",
            "Epoch 8/50, Train Loss: 1540.9167, Val Loss: 1552.5909\n",
            "Epoch 9/50, Train Loss: 1535.0678, Val Loss: 1548.7781\n",
            "Epoch 10/50, Train Loss: 1530.0649, Val Loss: 1546.8207\n",
            "Epoch 11/50, Train Loss: 1525.7858, Val Loss: 1539.9624\n",
            "Epoch 12/50, Train Loss: 1521.7918, Val Loss: 1536.5542\n",
            "Epoch 13/50, Train Loss: 1518.4904, Val Loss: 1532.6194\n",
            "Epoch 14/50, Train Loss: 1515.6192, Val Loss: 1529.8726\n",
            "Epoch 15/50, Train Loss: 1512.2088, Val Loss: 1527.7011\n",
            "Epoch 16/50, Train Loss: 1509.8505, Val Loss: 1526.8029\n",
            "Epoch 17/50, Train Loss: 1508.3015, Val Loss: 1525.0985\n",
            "Epoch 18/50, Train Loss: 1506.3614, Val Loss: 1523.9096\n",
            "Epoch 19/50, Train Loss: 1504.9102, Val Loss: 1521.5997\n",
            "Epoch 20/50, Train Loss: 1503.5352, Val Loss: 1520.8675\n",
            "Epoch 21/50, Train Loss: 1502.2266, Val Loss: 1520.4864\n",
            "Epoch 22/50, Train Loss: 1501.3056, Val Loss: 1519.1812\n",
            "Epoch 23/50, Train Loss: 1500.3027, Val Loss: 1517.0522\n",
            "Epoch 24/50, Train Loss: 1499.0358, Val Loss: 1517.9627\n",
            "Epoch 25/50, Train Loss: 1498.1576, Val Loss: 1519.2096\n",
            "Epoch 26/50, Train Loss: 1496.8517, Val Loss: 1515.2873\n",
            "Epoch 27/50, Train Loss: 1496.9725, Val Loss: 1515.1756\n",
            "Epoch 28/50, Train Loss: 1496.7382, Val Loss: 1516.1401\n",
            "Epoch 29/50, Train Loss: 1496.4802, Val Loss: 1515.8647\n",
            "Epoch 30/50, Train Loss: 1499.2467, Val Loss: 1519.5003\n",
            "Epoch 31/50, Train Loss: 1501.6057, Val Loss: 1529.4608\n",
            "Epoch 32/50, Train Loss: 1504.8099, Val Loss: 1516.2014\n",
            "Epoch 33/50, Train Loss: 1498.2757, Val Loss: 1514.8541\n",
            "Epoch 34/50, Train Loss: 1494.0103, Val Loss: 1512.9494\n",
            "Epoch 35/50, Train Loss: 1492.8658, Val Loss: 1511.6133\n",
            "Epoch 36/50, Train Loss: 1491.6196, Val Loss: 1508.4491\n",
            "Epoch 37/50, Train Loss: 1489.9884, Val Loss: 1507.8075\n",
            "Epoch 38/50, Train Loss: 1488.6878, Val Loss: 1507.6056\n",
            "Epoch 39/50, Train Loss: 1487.7179, Val Loss: 1506.0902\n",
            "Epoch 40/50, Train Loss: 1486.0978, Val Loss: 1505.4398\n",
            "Epoch 41/50, Train Loss: 1485.1191, Val Loss: 1503.8383\n",
            "Epoch 42/50, Train Loss: 1484.2205, Val Loss: 1503.4564\n",
            "Epoch 43/50, Train Loss: 1483.1120, Val Loss: 1502.8858\n",
            "Epoch 44/50, Train Loss: 1481.7818, Val Loss: 1502.3393\n",
            "Epoch 45/50, Train Loss: 1481.3973, Val Loss: 1502.4574\n",
            "Epoch 46/50, Train Loss: 1481.1737, Val Loss: 1502.3012\n",
            "Epoch 47/50, Train Loss: 1481.3034, Val Loss: 1502.9781\n",
            "Epoch 48/50, Train Loss: 1481.8307, Val Loss: 1503.3661\n",
            "Epoch 49/50, Train Loss: 1482.6816, Val Loss: 1502.3641\n",
            "Epoch 50/50, Train Loss: 1483.3927, Val Loss: 1504.1745\n"
          ]
        },
        {
          "output_type": "display_data",
          "data": {
            "text/plain": [
              "<Figure size 640x480 with 1 Axes>"
            ],
            "image/png": "[encoded data removed]"
          },
          "metadata": {}
        }
      ]
    },
    {
      "cell_type": "code",
      "source": [
        "train_adt_tensor1 = torch.tensor(scaled_train_adt, dtype=torch.float32)\n",
        "# Predict ADT from test RNA\n",
        "model.eval()\n",
        "with torch.no_grad():\n",
        "    reconstructed_test_adt, _, _, _, _ = model(test_rna_tensor, torch.zeros_like(train_adt_tensor1))  # Zero ADT input for prediction\n",
        "\n",
        "reconstructed_adt = reconstructed_test_adt[:, train_rna.shape[0]:]\n",
        "# Invert normalization for reconstructed test ADT data\n",
        "reconstructed_test_adt = scaler_adt.inverse_transform(reconstructed_adt)\n",
        "\n",
        "# Display the reconstructed test ADT data\n",
        "print(reconstructed_test_adt)\n"
      ],
      "metadata": {
        "colab": {
          "base_uri": "https://localhost:8080/"
        },
        "id": "gn514EPAgOe5",
        "outputId": "8f75a5b8-7def-4a0a-f756-e9f78da54749"
      },
      "execution_count": null,
      "outputs": [
        {
          "output_type": "stream",
          "name": "stdout",
          "text": [
            "[[6.32357582 4.37959489 2.51728316 ... 1.88337524 4.57518632 4.54849702]\n",
            " [6.10230911 4.19521242 2.5259275  ... 2.06609435 4.66216201 4.39340042]\n",
            " [6.13802884 4.3035263  2.41807948 ... 2.05743309 4.53531223 4.44178009]\n",
            " ...\n",
            " [6.15354157 4.37330459 2.60476427 ... 2.10953638 4.62171655 4.64017782]\n",
            " [6.04180849 4.25251136 2.46181478 ... 2.06519638 4.58999995 4.49841972]\n",
            " [6.15395421 4.39528078 2.51688127 ... 1.95976837 4.41137787 4.59984091]]\n"
          ]
        }
      ]
    },
    {
      "cell_type": "markdown",
      "source": [],
      "metadata": {
        "id": "OrMTJDOSWZSr"
      }
    },
    {
      "cell_type": "code",
      "source": [
        "# Create DataFrame for ADT reconstruction\n",
        "adt_pred_df = pd.DataFrame(reconstructed_test_adt.T, columns=train_adt.columns)"
      ],
      "metadata": {
        "id": "vl5bU-9zhtOI"
      },
      "execution_count": null,
      "outputs": []
    },
    {
      "cell_type": "code",
      "source": [
        "melted_test_set = pd.melt(adt_pred_df.reset_index(), id_vars=\"index\", var_name=\"Var2\", value_name=\"Expected\")\n",
        "\n",
        "# Rename the 'index' column to 'Var1'\n",
        "melted_test_set.rename(columns={\"index\": \"Var1\"}, inplace=True)\n",
        "\n",
        "# Add 'ID' column\n",
        "melted_test_set[\"Id\"] = \"id\" + (melted_test_set.index + 1).astype(str)\n",
        "\n",
        "# Reorder the columns\n",
        "submission_df = melted_test_set[[\"Id\", \"Expected\"]]\n",
        "\n",
        "# Display the first few rows of the submission DataFrame\n",
        "print(submission_df.head())\n"
      ],
      "metadata": {
        "colab": {
          "base_uri": "https://localhost:8080/"
        },
        "id": "pXwyfoV2h_tk",
        "outputId": "4e2dc914-cd6d-4101-d92e-a8975e089a80"
      },
      "execution_count": null,
      "outputs": [
        {
          "output_type": "stream",
          "name": "stdout",
          "text": [
            "    Id  Expected\n",
            "0  id1  6.323576\n",
            "1  id2  4.379595\n",
            "2  id3  2.517283\n",
            "3  id4  3.570215\n",
            "4  id5  3.301249\n"
          ]
        }
      ]
    },
    {
      "cell_type": "markdown",
      "source": [
        "### Model 2 - Multimodal Fusion Autoencoder using Tensorflow and Keras"
      ],
      "metadata": {
        "id": "mz6fTuLucg2j"
      }
    },
    {
      "cell_type": "markdown",
      "source": [
        "This code implements a multimodal fusion autoencoder using TensorFlow and Keras. It first normalizes the training data from RNA and ADT modalities, splits it into training and validation sets, and defines the architecture of the autoencoder, including separate encoders for each modality, a fusion layer, and a decoder for predicting ADT features. The model is compiled with a mean squared error loss function and trained using early stopping to prevent overfitting. Finally, the training and validation loss curves are plotted to visualize the training progress and monitor model performance. After several hyperparameter tuning, the best kaggle score using this model was 0.7331"
      ],
      "metadata": {
        "id": "ligFz84fjnSW"
      }
    },
    {
      "cell_type": "code",
      "source": [
        "import tensorflow as tf\n",
        "from sklearn.preprocessing import StandardScaler\n",
        "from sklearn.model_selection import train_test_split\n",
        "\n",
        "\n",
        "# Normalize data\n",
        "scaler_rna = StandardScaler()\n",
        "scaler_adt = StandardScaler()\n",
        "train_rna_normalized = scaler_rna.fit_transform(train_rna.T)\n",
        "train_adt_normalized = scaler_adt.fit_transform(train_adt.T)\n",
        "\n",
        "# Split training data into training and validation sets\n",
        "X_train, X_val, y_train, y_val = train_test_split(train_rna_normalized, train_adt_normalized, test_size=0.2, random_state=42)\n",
        "\n",
        "# Define model architecture\n",
        "input_dim_rna = X_train.shape[1]\n",
        "input_dim_adt = y_train.shape[1]\n",
        "\n",
        "# Encoder for RNA modality\n",
        "encoder_rna = tf.keras.Sequential([\n",
        "    tf.keras.layers.Dense(512, activation='relu', input_shape=(input_dim_rna,), kernel_regularizer=tf.keras.regularizers.l2(0.001)),\n",
        "    tf.keras.layers.Dense(256, activation='relu', kernel_regularizer=tf.keras.regularizers.l2(0.001)),\n",
        "    tf.keras.layers.Dense(128, activation='relu', kernel_regularizer=tf.keras.regularizers.l2(0.001))\n",
        "])\n",
        "\n",
        "# Encoder for ADT modality\n",
        "encoder_adt = tf.keras.Sequential([\n",
        "    tf.keras.layers.Dense(64, activation='relu', input_shape=(input_dim_adt,), kernel_regularizer=tf.keras.regularizers.l2(0.001))\n",
        "])\n",
        "\n",
        "# Fusion layer\n",
        "fusion_layer = tf.keras.layers.Concatenate()\n",
        "\n",
        "# Decoder for predicting ADT features\n",
        "decoder = tf.keras.Sequential([\n",
        "    tf.keras.layers.Dense(128, activation='relu', kernel_regularizer=tf.keras.regularizers.l2(0.001)),\n",
        "    tf.keras.layers.Dense(256, activation='relu', kernel_regularizer=tf.keras.regularizers.l2(0.001)),\n",
        "    tf.keras.layers.Dense(input_dim_adt, activation='relu', kernel_regularizer=tf.keras.regularizers.l2(0.001))\n",
        "])\n",
        "\n",
        "# Define model inputs\n",
        "input_rna = tf.keras.Input(shape=(input_dim_rna,))\n",
        "input_adt = tf.keras.Input(shape=(input_dim_adt,))\n",
        "\n",
        "# Encode RNA and ADT modalities\n",
        "encoded_rna = encoder_rna(input_rna)\n",
        "encoded_adt = encoder_adt(input_adt)\n",
        "\n",
        "# Fusion\n",
        "fusion_output = fusion_layer([encoded_rna, encoded_adt])\n",
        "\n",
        "# Decode to predict ADT\n",
        "predicted_adt = decoder(fusion_output)\n",
        "\n",
        "# Define model\n",
        "model = tf.keras.Model(inputs=[input_rna, input_adt], outputs=predicted_adt)\n",
        "\n",
        "# Compile model with optimizer, learning rate, and loss function\n",
        "optimizer = tf.keras.optimizers.Adam(learning_rate=0.002)  # Adjust learning rate as needed\n",
        "model.compile(optimizer=optimizer, loss='mse')\n",
        "\n",
        "# Define early stopping callback\n",
        "early_stopping = tf.keras.callbacks.EarlyStopping(monitor='val_loss', patience=10, restore_best_weights=True)\n",
        "\n",
        "# Train model with early stopping\n",
        "history = model.fit([X_train, y_train], y_train, validation_data=([X_val, y_val], y_val), epochs=100, batch_size=64, callbacks=[early_stopping])\n",
        "\n",
        "# Plot training and validation loss\n",
        "plt.plot(history.history['loss'], label='Train Loss')\n",
        "plt.plot(history.history['val_loss'], label='Validation Loss')\n",
        "plt.xlabel('Epoch')\n",
        "plt.ylabel('Loss')\n",
        "plt.title('Training and Validation Loss')\n",
        "plt.legend()\n",
        "plt.show()"
      ],
      "metadata": {
        "colab": {
          "base_uri": "https://localhost:8080/",
          "height": 1000
        },
        "id": "q4s8KhgIjMoM",
        "outputId": "e7297255-f506-43f6-9c0b-47978afbc3c3"
      },
      "execution_count": null,
      "outputs": [
        {
          "output_type": "stream",
          "name": "stdout",
          "text": [
            "Epoch 1/100\n",
            "63/63 [==============================] - 13s 173ms/step - loss: 1.8412 - val_loss: 1.0465\n",
            "Epoch 2/100\n",
            "63/63 [==============================] - 8s 120ms/step - loss: 0.8930 - val_loss: 0.7919\n",
            "Epoch 3/100\n",
            "63/63 [==============================] - 8s 123ms/step - loss: 0.7593 - val_loss: 0.7195\n",
            "Epoch 4/100\n",
            "63/63 [==============================] - 7s 119ms/step - loss: 0.6832 - val_loss: 0.6453\n",
            "Epoch 5/100\n",
            "63/63 [==============================] - 6s 89ms/step - loss: 0.6315 - val_loss: 0.6115\n",
            "Epoch 6/100\n",
            "63/63 [==============================] - 10s 153ms/step - loss: 0.6113 - val_loss: 0.6011\n",
            "Epoch 7/100\n",
            "63/63 [==============================] - 10s 163ms/step - loss: 0.6037 - val_loss: 0.5946\n",
            "Epoch 8/100\n",
            "63/63 [==============================] - 10s 152ms/step - loss: 0.6001 - val_loss: 0.5919\n",
            "Epoch 9/100\n",
            "63/63 [==============================] - 6s 96ms/step - loss: 0.5971 - val_loss: 0.5904\n",
            "Epoch 10/100\n",
            "63/63 [==============================] - 7s 117ms/step - loss: 0.5947 - val_loss: 0.5894\n",
            "Epoch 11/100\n",
            "63/63 [==============================] - 6s 89ms/step - loss: 0.5938 - val_loss: 0.5885\n",
            "Epoch 12/100\n",
            "63/63 [==============================] - 9s 141ms/step - loss: 0.5927 - val_loss: 0.5860\n",
            "Epoch 13/100\n",
            "63/63 [==============================] - 7s 103ms/step - loss: 0.5916 - val_loss: 0.5852\n",
            "Epoch 14/100\n",
            "63/63 [==============================] - 7s 106ms/step - loss: 0.5907 - val_loss: 0.5851\n",
            "Epoch 15/100\n",
            "63/63 [==============================] - 7s 105ms/step - loss: 0.5904 - val_loss: 0.5845\n",
            "Epoch 16/100\n",
            "63/63 [==============================] - 6s 89ms/step - loss: 0.5897 - val_loss: 0.5836\n",
            "Epoch 17/100\n",
            "63/63 [==============================] - 8s 120ms/step - loss: 0.5893 - val_loss: 0.5831\n",
            "Epoch 18/100\n",
            "63/63 [==============================] - 6s 90ms/step - loss: 0.5894 - val_loss: 0.5844\n",
            "Epoch 19/100\n",
            "63/63 [==============================] - 6s 102ms/step - loss: 0.5893 - val_loss: 0.5828\n",
            "Epoch 20/100\n",
            "63/63 [==============================] - 7s 108ms/step - loss: 0.5885 - val_loss: 0.5833\n",
            "Epoch 21/100\n",
            "63/63 [==============================] - 6s 89ms/step - loss: 0.5890 - val_loss: 0.5836\n",
            "Epoch 22/100\n",
            "63/63 [==============================] - 8s 122ms/step - loss: 0.5887 - val_loss: 0.5828\n",
            "Epoch 23/100\n",
            "63/63 [==============================] - 6s 90ms/step - loss: 0.5884 - val_loss: 0.5837\n",
            "Epoch 24/100\n",
            "63/63 [==============================] - 6s 101ms/step - loss: 0.5886 - val_loss: 0.5818\n",
            "Epoch 25/100\n",
            "63/63 [==============================] - 8s 130ms/step - loss: 0.5881 - val_loss: 0.5817\n",
            "Epoch 26/100\n",
            "63/63 [==============================] - 9s 143ms/step - loss: 0.5876 - val_loss: 0.5833\n",
            "Epoch 27/100\n",
            "63/63 [==============================] - 9s 137ms/step - loss: 0.5876 - val_loss: 0.5803\n",
            "Epoch 28/100\n",
            "63/63 [==============================] - 8s 126ms/step - loss: 0.5871 - val_loss: 0.5807\n",
            "Epoch 29/100\n",
            "63/63 [==============================] - 7s 109ms/step - loss: 0.5870 - val_loss: 0.5811\n",
            "Epoch 30/100\n",
            "63/63 [==============================] - 6s 95ms/step - loss: 0.5871 - val_loss: 0.5807\n",
            "Epoch 31/100\n",
            "63/63 [==============================] - 12s 184ms/step - loss: 0.5873 - val_loss: 0.5807\n",
            "Epoch 32/100\n",
            "63/63 [==============================] - 8s 129ms/step - loss: 0.5866 - val_loss: 0.5810\n",
            "Epoch 33/100\n",
            "63/63 [==============================] - 9s 145ms/step - loss: 0.5870 - val_loss: 0.5803\n",
            "Epoch 34/100\n",
            "63/63 [==============================] - 8s 123ms/step - loss: 0.5868 - val_loss: 0.5814\n",
            "Epoch 35/100\n",
            "63/63 [==============================] - 8s 131ms/step - loss: 0.5865 - val_loss: 0.5804\n",
            "Epoch 36/100\n",
            "63/63 [==============================] - 6s 100ms/step - loss: 0.5865 - val_loss: 0.5802\n",
            "Epoch 37/100\n",
            "63/63 [==============================] - 9s 149ms/step - loss: 0.5861 - val_loss: 0.5813\n",
            "Epoch 38/100\n",
            "63/63 [==============================] - 7s 114ms/step - loss: 0.5863 - val_loss: 0.5812\n",
            "Epoch 39/100\n",
            "63/63 [==============================] - 9s 143ms/step - loss: 0.5865 - val_loss: 0.5815\n",
            "Epoch 40/100\n",
            "63/63 [==============================] - 7s 108ms/step - loss: 0.5866 - val_loss: 0.5808\n",
            "Epoch 41/100\n",
            "63/63 [==============================] - 7s 114ms/step - loss: 0.5861 - val_loss: 0.5797\n",
            "Epoch 42/100\n",
            "63/63 [==============================] - 7s 108ms/step - loss: 0.5864 - val_loss: 0.5795\n",
            "Epoch 43/100\n",
            "63/63 [==============================] - 9s 138ms/step - loss: 0.5856 - val_loss: 0.5800\n",
            "Epoch 44/100\n",
            "63/63 [==============================] - 6s 100ms/step - loss: 0.5859 - val_loss: 0.5788\n",
            "Epoch 45/100\n",
            "63/63 [==============================] - 8s 131ms/step - loss: 0.5858 - val_loss: 0.5796\n",
            "Epoch 46/100\n",
            "63/63 [==============================] - 7s 106ms/step - loss: 0.5862 - val_loss: 0.5795\n",
            "Epoch 47/100\n",
            "63/63 [==============================] - 7s 106ms/step - loss: 0.5858 - val_loss: 0.5795\n",
            "Epoch 48/100\n",
            "63/63 [==============================] - 7s 108ms/step - loss: 0.5857 - val_loss: 0.5799\n",
            "Epoch 49/100\n",
            "63/63 [==============================] - 6s 91ms/step - loss: 0.5861 - val_loss: 0.5817\n",
            "Epoch 50/100\n",
            "63/63 [==============================] - 8s 123ms/step - loss: 0.5861 - val_loss: 0.5798\n",
            "Epoch 51/100\n",
            "63/63 [==============================] - 7s 117ms/step - loss: 0.5857 - val_loss: 0.5795\n",
            "Epoch 52/100\n",
            "63/63 [==============================] - 8s 133ms/step - loss: 0.5857 - val_loss: 0.5796\n",
            "Epoch 53/100\n",
            "63/63 [==============================] - 6s 90ms/step - loss: 0.5856 - val_loss: 0.5795\n",
            "Epoch 54/100\n",
            "63/63 [==============================] - 6s 100ms/step - loss: 0.5855 - val_loss: 0.5786\n",
            "Epoch 55/100\n",
            "63/63 [==============================] - 7s 112ms/step - loss: 0.5854 - val_loss: 0.5797\n",
            "Epoch 56/100\n",
            "63/63 [==============================] - 6s 90ms/step - loss: 0.5858 - val_loss: 0.5802\n",
            "Epoch 57/100\n",
            "63/63 [==============================] - 8s 122ms/step - loss: 0.5853 - val_loss: 0.5796\n",
            "Epoch 58/100\n",
            "63/63 [==============================] - 6s 89ms/step - loss: 0.5854 - val_loss: 0.5793\n",
            "Epoch 59/100\n",
            "63/63 [==============================] - 6s 100ms/step - loss: 0.5855 - val_loss: 0.5795\n",
            "Epoch 60/100\n",
            "63/63 [==============================] - 8s 129ms/step - loss: 0.5853 - val_loss: 0.5808\n",
            "Epoch 61/100\n",
            "63/63 [==============================] - 6s 89ms/step - loss: 0.5852 - val_loss: 0.5788\n",
            "Epoch 62/100\n",
            "63/63 [==============================] - 8s 121ms/step - loss: 0.5852 - val_loss: 0.5795\n",
            "Epoch 63/100\n",
            "63/63 [==============================] - 6s 89ms/step - loss: 0.5852 - val_loss: 0.5784\n",
            "Epoch 64/100\n",
            "63/63 [==============================] - 7s 108ms/step - loss: 0.5851 - val_loss: 0.5780\n",
            "Epoch 65/100\n",
            "63/63 [==============================] - 7s 104ms/step - loss: 0.5853 - val_loss: 0.5795\n",
            "Epoch 66/100\n",
            "63/63 [==============================] - 6s 90ms/step - loss: 0.5854 - val_loss: 0.5783\n",
            "Epoch 67/100\n",
            "63/63 [==============================] - 8s 122ms/step - loss: 0.5849 - val_loss: 0.5794\n",
            "Epoch 68/100\n",
            "63/63 [==============================] - 6s 98ms/step - loss: 0.5848 - val_loss: 0.5780\n",
            "Epoch 69/100\n",
            "63/63 [==============================] - 7s 111ms/step - loss: 0.5848 - val_loss: 0.5795\n",
            "Epoch 70/100\n",
            "63/63 [==============================] - 6s 100ms/step - loss: 0.5851 - val_loss: 0.5785\n",
            "Epoch 71/100\n",
            "63/63 [==============================] - 6s 89ms/step - loss: 0.5846 - val_loss: 0.5795\n",
            "Epoch 72/100\n",
            "63/63 [==============================] - 8s 121ms/step - loss: 0.5850 - val_loss: 0.5781\n",
            "Epoch 73/100\n",
            "63/63 [==============================] - 6s 89ms/step - loss: 0.5847 - val_loss: 0.5783\n",
            "Epoch 74/100\n",
            "63/63 [==============================] - 7s 108ms/step - loss: 0.5849 - val_loss: 0.5787\n"
          ]
        },
        {
          "output_type": "display_data",
          "data": {
            "text/plain": [
              "<Figure size 640x480 with 1 Axes>"
            ],
            "image/png": "[encoded data removed]"
          },
          "metadata": {}
        }
      ]
    },
    {
      "cell_type": "code",
      "source": [
        "# Predict ADT for test RNA data\n",
        "test_rna_normalized = scaler_rna.transform(test_rna.T)\n",
        "predicted_adt_normalized = model.predict([test_rna_normalized, np.zeros_like(train_adt_normalized)])\n",
        "\n",
        "# Inverse transform to get original scale\n",
        "predicted_adt = scaler_adt.inverse_transform(predicted_adt_normalized)\n",
        "\n",
        "# Save predictions\n",
        "predicted_adt_df = pd.DataFrame(predicted_adt.T, columns=train_adt.columns)\n"
      ],
      "metadata": {
        "colab": {
          "base_uri": "https://localhost:8080/"
        },
        "id": "vdtettkokOa6",
        "outputId": "1a703fcd-5f46-4307-f144-84cef1afa33d"
      },
      "execution_count": null,
      "outputs": [
        {
          "output_type": "stream",
          "name": "stdout",
          "text": [
            "157/157 [==============================] - 5s 32ms/step\n"
          ]
        }
      ]
    },
    {
      "cell_type": "code",
      "source": [
        "melted_test_set = pd.melt(predicted_adt_df.reset_index(), id_vars=\"index\", var_name=\"Var2\", value_name=\"Expected\")\n",
        "\n",
        "# Rename the 'index' column to 'Var1'\n",
        "melted_test_set.rename(columns={\"index\": \"Var1\"}, inplace=True)\n",
        "\n",
        "# Add 'ID' column\n",
        "melted_test_set[\"Id\"] = \"id\" + (melted_test_set.index + 1).astype(str)\n",
        "\n",
        "# Reorder the columns\n",
        "submission_df = melted_test_set[[\"Id\", \"Expected\"]]\n",
        "\n",
        "# Display the first few rows of the submission DataFrame\n",
        "print(submission_df.head())\n"
      ],
      "metadata": {
        "colab": {
          "base_uri": "https://localhost:8080/"
        },
        "id": "rTQtSAqKkVSH",
        "outputId": "7a03fc8f-d2c3-496c-fa24-dde54cb4af68"
      },
      "execution_count": null,
      "outputs": [
        {
          "output_type": "stream",
          "name": "stdout",
          "text": [
            "    Id  Expected\n",
            "0  id1  6.528813\n",
            "1  id2  4.327759\n",
            "2  id3  2.439023\n",
            "3  id4  3.659114\n",
            "4  id5  3.251037\n"
          ]
        }
      ]
    },
    {
      "cell_type": "markdown",
      "source": [],
      "metadata": {
        "id": "tIh8tYVMk4BG"
      }
    },
    {
      "cell_type": "markdown",
      "source": [
        "### Model 3 - Multimodal Variational Autoencoder"
      ],
      "metadata": {
        "id": "D7RLr4pmk6wR"
      }
    },
    {
      "cell_type": "markdown",
      "source": [
        "The code below defines a multimodal variational autoencoder (VAE) model in PyTorch for learning representations from RNA and ADT modalities. It consists of a shared encoder and decoder, along with separate expert networks for RNA and ADT. The model is trained using mean squared error loss augmented with Kullback-Leibler divergence for the VAE framework. Regularization with weight decay is applied during optimization, and early stopping is employed to prevent overfitting. The training loop iterates over epochs, updating model parameters with mini-batches of training data. Finally, the training loss curve is plotted to visualize the training progress and monitor convergence. This model gave the best kaggle score of 0.7340 after several tunings of the hyperparameter."
      ],
      "metadata": {
        "id": "Asv54YC6sLUA"
      }
    },
    {
      "cell_type": "code",
      "source": [
        "import torch\n",
        "import torch.nn as nn\n",
        "import torch.nn.functional as F\n",
        "import numpy as np\n",
        "import matplotlib.pyplot as plt\n",
        "from sklearn.preprocessing import MinMaxScaler\n",
        "from torch.utils.data import DataLoader, TensorDataset\n",
        "from sklearn.model_selection import train_test_split\n",
        "\n",
        "# Define the model architecture\n",
        "class SharedEncoder(nn.Module):\n",
        "    def __init__(self, input_dim, latent_dim):\n",
        "        super(SharedEncoder, self).__init__()\n",
        "        self.fc1 = nn.Linear(input_dim, 128)\n",
        "        self.fc2 = nn.Linear(128, 64)\n",
        "        self.fc_mu = nn.Linear(64, latent_dim)\n",
        "        self.fc_logvar = nn.Linear(64, latent_dim)\n",
        "\n",
        "    def forward(self, x):\n",
        "        x = F.relu(self.fc1(x))\n",
        "        x = F.relu(self.fc2(x))\n",
        "        mu = self.fc_mu(x)\n",
        "        logvar = self.fc_logvar(x)\n",
        "        return mu, logvar\n",
        "\n",
        "class SharedDecoder(nn.Module):\n",
        "    def __init__(self, latent_dim, output_dim):\n",
        "        super(SharedDecoder, self).__init__()\n",
        "        self.fc1 = nn.Linear(latent_dim, 64)\n",
        "        self.fc2 = nn.Linear(64, 128)\n",
        "        self.fc3 = nn.Linear(128, output_dim)\n",
        "\n",
        "    def forward(self, x):\n",
        "        x = F.relu(self.fc1(x))\n",
        "        x = F.relu(self.fc2(x))\n",
        "        x = self.fc3(x)\n",
        "        return x\n",
        "\n",
        "class Expert(nn.Module):\n",
        "    def __init__(self, input_dim, output_dim):\n",
        "        super(Expert, self).__init__()\n",
        "        self.encoder = nn.Sequential(\n",
        "            nn.Linear(input_dim, 512),\n",
        "            nn.ReLU(),\n",
        "            nn.Linear(512, 256),\n",
        "            nn.ReLU()\n",
        "        )\n",
        "        self.decoder = nn.Sequential(\n",
        "            nn.Linear(256, 512),\n",
        "            nn.ReLU(),\n",
        "            nn.Linear(512, output_dim)\n",
        "        )\n",
        "\n",
        "    def forward(self, x):\n",
        "        x = self.encoder(x)\n",
        "        x = self.decoder(x)\n",
        "        return x\n",
        "\n",
        "class Model(nn.Module):\n",
        "    def __init__(self, input_dim_rna, input_dim_adt, latent_dim):\n",
        "        super(Model, self).__init__()\n",
        "        self.shared_encoder = SharedEncoder(input_dim_rna, latent_dim)\n",
        "        self.shared_decoder = SharedDecoder(latent_dim, input_dim_rna)\n",
        "        self.expert_rna = Expert(latent_dim, input_dim_rna)\n",
        "        self.expert_adt = Expert(latent_dim, input_dim_adt)\n",
        "\n",
        "    def forward(self, x_rna, x_adt):\n",
        "        mu, logvar = self.shared_encoder(x_rna)\n",
        "        z = self._reparameterize(mu, logvar)\n",
        "        shared_output = self.shared_decoder(z)\n",
        "        rna_output = self.expert_rna(z)\n",
        "        adt_output = self.expert_adt(z)\n",
        "        return shared_output, rna_output, adt_output, mu, logvar\n",
        "\n",
        "    def _reparameterize(self, mu, logvar):\n",
        "        std = torch.exp(0.5 * logvar)\n",
        "        eps = torch.randn_like(std)\n",
        "        return mu + eps * std\n",
        "\n",
        "\n",
        "# Normalize data\n",
        "scaler_rna = MinMaxScaler()\n",
        "scaler_adt = MinMaxScaler()\n",
        "train_rna_normalized = scaler_rna.fit_transform(train_rna.T)\n",
        "train_adt_normalized = scaler_adt.fit_transform(train_adt.T)\n",
        "\n",
        "# Split data into train and validation sets\n",
        "X_train, X_val, y_train, y_val = train_test_split(train_rna_normalized, train_adt_normalized, test_size=0.2, random_state=42)\n",
        "\n",
        "# Convert data to PyTorch tensors\n",
        "train_rna_tensor = torch.tensor(X_train, dtype=torch.float32)\n",
        "train_adt_tensor = torch.tensor(y_train, dtype=torch.float32)\n",
        "val_rna_tensor = torch.tensor(X_val, dtype=torch.float32)\n",
        "val_adt_tensor = torch.tensor(y_val, dtype=torch.float32)\n",
        "\n",
        "# Initialize the model\n",
        "input_dim_rna = train_rna.T.shape[1]\n",
        "input_dim_adt = train_adt.T.shape[1]\n",
        "latent_dim = 48  # Dimensionality of latent space\n",
        "model = Model(input_dim_rna, input_dim_adt, latent_dim)\n",
        "\n",
        "# Define loss function\n",
        "def vae_loss(recon_x, x, mu, logvar):\n",
        "    recon_loss = F.mse_loss(recon_x, x, reduction='sum')\n",
        "    kl_divergence = -0.5 * torch.sum(1 + logvar - mu.pow(2) - logvar.exp())\n",
        "    return recon_loss + kl_divergence\n",
        "\n",
        "# Define optimizer\n",
        "optimizer = torch.optim.Adam(model.parameters(), lr=0.01, weight_decay=0.001)\n",
        "\n",
        "# Training loop with regularization and early stopping\n",
        "epochs = 300\n",
        "batch_size = 512\n",
        "train_losses = []\n",
        "val_losses = []\n",
        "best_val_loss = float('inf')\n",
        "for epoch in range(epochs):\n",
        "    model.train()  # Set model to training mode\n",
        "    total_train_loss = 0\n",
        "    for i in range(0, len(train_rna_tensor), batch_size):\n",
        "        optimizer.zero_grad()  # Zero the gradients\n",
        "        batch_rna = train_rna_tensor[i:i+batch_size]  # Get batch of RNA data\n",
        "        batch_adt = train_adt_tensor[i:i+batch_size]  # Get batch of ADT data\n",
        "        shared_output, _, adt_output, mu, logvar = model(batch_rna, None)  # Forward pass\n",
        "        loss = vae_loss(adt_output, batch_adt, mu, logvar)  # Calculate loss\n",
        "        loss.backward()  # Backpropagation\n",
        "        optimizer.step()  # Update weights\n",
        "        total_train_loss += loss.item()  # Accumulate total loss\n",
        "    epoch_train_loss = total_train_loss / len(train_rna_tensor)\n",
        "    train_losses.append(epoch_train_loss)\n",
        "\n",
        "    # Validation\n",
        "    model.eval()  # Set model to evaluation mode\n",
        "    total_val_loss = 0\n",
        "    with torch.no_grad():\n",
        "        for i in range(0, len(val_rna_tensor), batch_size):\n",
        "            shared_output, _, adt_output, mu, logvar = model(val_rna_tensor[i:i+batch_size], None)  # Forward pass\n",
        "            loss = vae_loss(adt_output, val_adt_tensor[i:i+batch_size], mu, logvar)  # Calculate loss\n",
        "            total_val_loss += loss.item()  # Accumulate total loss\n",
        "    epoch_val_loss = total_val_loss / len(val_rna_tensor)\n",
        "    val_losses.append(epoch_val_loss)\n",
        "\n",
        "    # Print average loss for the epoch\n",
        "    print(f\"Epoch {epoch + 1}/{epochs}, Train Loss: {epoch_train_loss}, Val Loss: {epoch_val_loss}\")\n",
        "\n",
        "    # Early stopping\n",
        "    if epoch_val_loss < best_val_loss:\n",
        "        best_val_loss = epoch_val_loss\n",
        "    else:\n",
        "        print(\"Early stopping...\")\n",
        "        break\n",
        "\n",
        "# Plot the training and validation losses\n",
        "plt.plot(train_losses, label='Train Loss')\n",
        "plt.plot(val_losses, label='Validation Loss')\n",
        "plt.xlabel('Epoch')\n",
        "plt.ylabel('Loss')\n",
        "plt.title('Training and Validation Losses')\n",
        "plt.legend()\n",
        "plt.show()\n"
      ],
      "metadata": {
        "colab": {
          "base_uri": "https://localhost:8080/",
          "height": 638
        },
        "id": "92kY20akkfps",
        "outputId": "01ccca69-8d83-401c-98f2-ed4c550aa5d9"
      },
      "execution_count": null,
      "outputs": [
        {
          "output_type": "stream",
          "name": "stdout",
          "text": [
            "Epoch 1/300, Train Loss: 612.233626159668, Val Loss: 3.5341815185546874\n",
            "Epoch 2/300, Train Loss: 2.1125924682617185, Val Loss: 1.7042026977539062\n",
            "Epoch 3/300, Train Loss: 1.2653356628417969, Val Loss: 1.357397216796875\n",
            "Epoch 4/300, Train Loss: 1.0717209930419922, Val Loss: 0.926454833984375\n",
            "Epoch 5/300, Train Loss: 0.9319490509033204, Val Loss: 0.8558214721679688\n",
            "Epoch 6/300, Train Loss: 0.8727089157104492, Val Loss: 0.8244664306640626\n",
            "Epoch 7/300, Train Loss: 0.8411671676635742, Val Loss: 0.8183715515136719\n",
            "Epoch 8/300, Train Loss: 0.8291525573730468, Val Loss: 0.8185889587402344\n",
            "Early stopping...\n"
          ]
        },
        {
          "output_type": "display_data",
          "data": {
            "text/plain": [
              "<Figure size 640x480 with 1 Axes>"
            ],
            "image/png": "[encoded data removed]"
          },
          "metadata": {}
        }
      ]
    },
    {
      "cell_type": "code",
      "source": [
        "#test_rna_normalized = scaler_rna.fit_transform(test_rna)\n",
        "# Convert test RNA data to torch tensor\n",
        "test_rna_normalized = scaler_rna.fit_transform(test_rna.T)\n",
        "test_rna_tensor = torch.tensor(test_rna_normalized, dtype=torch.float32)\n",
        "\n",
        "# Predict ADT values for the test RNA samples\n",
        "model.eval()  # Set model to evaluation mode\n",
        "with torch.no_grad():\n",
        "    _, _, adt_predictions, _, _ = model(test_rna_tensor, None)\n",
        "\n",
        "# Print the shape of the predicted ADT values\n",
        "print(\"Shape of predicted ADT values:\", adt_predictions.shape)\n",
        "\n",
        "adt_predictions = scaler_adt.inverse_transform(adt_predictions)"
      ],
      "metadata": {
        "colab": {
          "base_uri": "https://localhost:8080/"
        },
        "id": "gR0aOb1ZtklE",
        "outputId": "0c02f756-2124-4018-d02e-259d9b97774d"
      },
      "execution_count": null,
      "outputs": [
        {
          "output_type": "stream",
          "name": "stdout",
          "text": [
            "Shape of predicted ADT values: torch.Size([5000, 25])\n"
          ]
        }
      ]
    },
    {
      "cell_type": "code",
      "source": [
        "# Save predictions\n",
        "predicted_adt_df = pd.DataFrame(adt_predictions.T, columns=train_adt.columns)\n"
      ],
      "metadata": {
        "id": "p8f3yDvittvn"
      },
      "execution_count": null,
      "outputs": []
    },
    {
      "cell_type": "code",
      "source": [
        "melted_test_set = pd.melt(predicted_adt_df.reset_index(), id_vars=\"index\", var_name=\"Var2\", value_name=\"Expected\")\n",
        "\n",
        "# Rename the 'index' column to 'Var1'\n",
        "melted_test_set.rename(columns={\"index\": \"Var1\"}, inplace=True)\n",
        "\n",
        "# Add 'ID' column\n",
        "melted_test_set[\"Id\"] = \"id\" + (melted_test_set.index + 1).astype(str)\n",
        "\n",
        "# Reorder the columns\n",
        "submission_df = melted_test_set[[\"Id\", \"Expected\"]]\n",
        "\n",
        "# Display the first few rows of the submission DataFrame\n",
        "print(submission_df.head())\n"
      ],
      "metadata": {
        "colab": {
          "base_uri": "https://localhost:8080/"
        },
        "id": "6sSLm9OutkYO",
        "outputId": "fe0da2d7-df94-4e00-aa59-587d70fd7799"
      },
      "execution_count": null,
      "outputs": [
        {
          "output_type": "stream",
          "name": "stdout",
          "text": [
            "    Id  Expected\n",
            "0  id1  6.157425\n",
            "1  id2  4.250639\n",
            "2  id3  2.462744\n",
            "3  id4  3.599304\n",
            "4  id5  3.222003\n"
          ]
        }
      ]
    },
    {
      "cell_type": "markdown",
      "source": [
        "### Model 4 - Multimodal Variational Autoencoder with Adversarial Networks"
      ],
      "metadata": {
        "id": "6YjJxF6ft8Uv"
      }
    },
    {
      "cell_type": "markdown",
      "source": [
        "This code below implements a multimodal variational autoencoder (VAE) with adversarial training for learning representations from RNA and ADT data. It first defines the architecture of the VAE model along with discriminator networks. The training data is loaded and normalized using StandardScaler. Then, the model is instantiated and trained using the normalized training data. During training, the VAE loss function, which consists of reconstruction loss and KL divergence, is optimized using the Adam optimizer. Adversarial feedback is incorporated into the loss function to train the discriminator networks. The training loop iterates over multiple epochs, updating model parameters using backpropagation. Finally, the training loss over epochs is plotted to visualize the training progress. To improve the code, a train-validation split should be implemented, and validation loss should be calculated and plotted alongside the training loss for monitoring model performance. The best score after few hyperparameter tunings was 0.6915."
      ],
      "metadata": {
        "id": "pRZZRql7taAL"
      }
    },
    {
      "cell_type": "code",
      "source": [
        "import torch\n",
        "import torch.nn as nn\n",
        "import torch.nn.functional as F\n",
        "import numpy as np\n",
        "import matplotlib.pyplot as plt\n",
        "from sklearn.preprocessing import StandardScaler\n",
        "from torch.utils.data import DataLoader, TensorDataset\n",
        "from sklearn.model_selection import train_test_split\n",
        "\n",
        "class SharedEncoder(nn.Module):\n",
        "    def __init__(self, input_dim, latent_dim):\n",
        "        super(SharedEncoder, self).__init__()\n",
        "        self.fc1 = nn.Linear(input_dim, 128)\n",
        "        self.bn1 = nn.BatchNorm1d(128)  # Batch normalization layer\n",
        "        self.fc2 = nn.Linear(128, 64)\n",
        "        self.bn2 = nn.BatchNorm1d(64)   # Batch normalization layer\n",
        "        self.fc_mu = nn.Linear(64, latent_dim)\n",
        "        self.fc_logvar = nn.Linear(64, latent_dim)\n",
        "\n",
        "    def forward(self, x):\n",
        "        x = F.relu(self.bn1(self.fc1(x)))  # Apply batch normalization\n",
        "        x = F.relu(self.bn2(self.fc2(x)))  # Apply batch normalization\n",
        "        mu = self.fc_mu(x)\n",
        "        logvar = self.fc_logvar(x)\n",
        "        return mu, logvar\n",
        "\n",
        "class SharedDecoder(nn.Module):\n",
        "    def __init__(self, latent_dim, output_dim):\n",
        "        super(SharedDecoder, self).__init__()\n",
        "        self.fc1 = nn.Linear(latent_dim, 64)\n",
        "        self.fc2 = nn.Linear(64, 128)\n",
        "        self.fc3 = nn.Linear(128, output_dim)\n",
        "\n",
        "    def forward(self, x):\n",
        "        x = F.relu(self.fc1(x))\n",
        "        x = F.relu(self.fc2(x))\n",
        "        x = self.fc3(x)\n",
        "        return x\n",
        "\n",
        "class Expert(nn.Module):\n",
        "    def __init__(self, input_dim, output_dim):\n",
        "        super(Expert, self).__init__()\n",
        "        self.encoder = nn.Sequential(\n",
        "            nn.Linear(input_dim, 512),\n",
        "            nn.ReLU(),\n",
        "            nn.Linear(512, 256),\n",
        "            nn.ReLU()\n",
        "        )\n",
        "        self.decoder = nn.Sequential(\n",
        "            nn.Linear(256, 512),\n",
        "            nn.ReLU(),\n",
        "            nn.Linear(512, output_dim)\n",
        "        )\n",
        "\n",
        "    def forward(self, x):\n",
        "        x = self.encoder(x)\n",
        "        x = self.decoder(x)\n",
        "        return x\n",
        "\n",
        "class Discriminator(nn.Module):\n",
        "    def __init__(self, input_dim):\n",
        "        super(Discriminator, self).__init__()\n",
        "        self.fc1 = nn.Linear(input_dim, 64)\n",
        "        self.fc2 = nn.Linear(64, 1)\n",
        "\n",
        "    def forward(self, x):\n",
        "        x = F.relu(self.fc1(x))\n",
        "        x = torch.sigmoid(self.fc2(x))\n",
        "        return x\n",
        "\n",
        "class Model(nn.Module):\n",
        "    def __init__(self, input_dim_rna, input_dim_adt, latent_dim):\n",
        "        super(Model, self).__init__()\n",
        "        self.shared_encoder = SharedEncoder(input_dim_rna, latent_dim)\n",
        "        self.shared_decoder = SharedDecoder(latent_dim, input_dim_rna)\n",
        "        self.expert_rna = Expert(latent_dim, input_dim_rna)\n",
        "        self.expert_adt = Expert(latent_dim, input_dim_adt)\n",
        "        self.discriminator_expert_rna = Discriminator(input_dim_rna)\n",
        "        self.discriminator_expert_adt = Discriminator(input_dim_adt)\n",
        "        self.discriminator_modality = Discriminator(latent_dim)\n",
        "\n",
        "    def forward(self, x_rna, x_adt):\n",
        "        mu, logvar = self.shared_encoder(x_rna)\n",
        "        z = self._reparameterize(mu, logvar)\n",
        "        shared_output = self.shared_decoder(z)\n",
        "        rna_output = self.expert_rna(z)\n",
        "        adt_output = self.expert_adt(z)\n",
        "        return shared_output, rna_output, adt_output, mu, logvar\n",
        "\n",
        "    def adversarial_loss(self, discriminator, outputs):\n",
        "        preds = discriminator(outputs)\n",
        "        target = torch.ones_like(preds)\n",
        "        adv_loss = F.binary_cross_entropy(preds, target)\n",
        "        return adv_loss\n",
        "\n",
        "    def _reparameterize(self, mu, logvar):\n",
        "        std = torch.exp(0.5 * logvar)\n",
        "        eps = torch.randn_like(std)\n",
        "        return mu + eps * std\n",
        "\n",
        "# Load training data\n",
        "# Create MinMaxScaler objects for RNA and ADT data\n",
        "rna_scaler = StandardScaler()\n",
        "adt_scaler = StandardScaler()\n",
        "\n",
        "# Fit the scalers to the training data and transform the data\n",
        "train_rna_scaled = rna_scaler.fit_transform(train_rna)\n",
        "train_adt_scaled = adt_scaler.fit_transform(train_adt)\n",
        "test_rna_scaled = rna_scaler.fit_transform(test_rna)\n",
        "\n",
        "# Split the data into training and validation sets\n",
        "X_train, X_val, y_train, y_val = train_test_split(train_rna_scaled.T, train_adt_scaled.T, test_size=0.2, random_state=42)\n",
        "\n",
        "# Convert scaled data to PyTorch tensors\n",
        "train_rna_tensor = torch.tensor(X_train, dtype=torch.float32)\n",
        "train_adt_tensor = torch.tensor(y_train, dtype=torch.float32)\n",
        "val_rna_tensor = torch.tensor(X_val, dtype=torch.float32)\n",
        "val_adt_tensor = torch.tensor(y_val, dtype=torch.float32)\n",
        "\n",
        "# Create an instance of the model\n",
        "input_dim_rna = train_rna_scaled.T.shape[1]\n",
        "input_dim_adt = train_adt_scaled.T.shape[1]\n",
        "latent_dim = 32  # Dimensionality of latent space\n",
        "model = Model(input_dim_rna, input_dim_adt, latent_dim)\n",
        "\n",
        "# Define loss function\n",
        "def vae_loss(recon_x, x, mu, logvar):\n",
        "    recon_loss = F.mse_loss(recon_x, x, reduction='sum')\n",
        "    kl_divergence = -0.5 * torch.sum(1 + logvar - mu.pow(2) - logvar.exp())\n",
        "    return recon_loss + kl_divergence\n",
        "\n",
        "# Define optimizer\n",
        "optimizer = torch.optim.Adam(model.parameters(), lr=0.02, weight_decay=1e-5)\n",
        "\n",
        "# Training loop\n",
        "epochs = 50\n",
        "batch_size = 512\n",
        "train_losses = []\n",
        "val_losses = []\n",
        "for epoch in range(epochs):\n",
        "    model.train()  # Set model to training mode\n",
        "    total_train_loss = 0\n",
        "    for i in range(0, len(train_rna_tensor), batch_size):\n",
        "        optimizer.zero_grad()  # Zero the gradients\n",
        "        batch_rna = train_rna_tensor[i:i+batch_size]  # Get batch of RNA data\n",
        "        batch_adt = train_adt_tensor[i:i+batch_size]  # Get batch of ADT data\n",
        "        shared_output, _, adt_output, mu, logvar = model(batch_rna, None)  # Forward pass\n",
        "        loss = vae_loss(adt_output, batch_adt, mu, logvar)  # Calculate loss\n",
        "\n",
        "        # Adversarial feedback for discriminator_expert_rna\n",
        "        adv_loss_expert_rna = model.adversarial_loss(model.discriminator_expert_rna, shared_output)\n",
        "\n",
        "        # Adversarial feedback for discriminator_expert_adt\n",
        "        adv_loss_expert_adt = model.adversarial_loss(model.discriminator_expert_adt, adt_output)\n",
        "\n",
        "        # Adversarial feedback for discriminator_modality\n",
        "        adv_loss_modality = model.adversarial_loss(model.discriminator_modality, mu)\n",
        "\n",
        "        loss += adv_loss_expert_rna + adv_loss_expert_adt + adv_loss_modality\n",
        "\n",
        "        loss.backward()  # Backpropagation\n",
        "        optimizer.step()  # Update weights\n",
        "        total_train_loss += loss.item()  # Accumulate total train loss\n",
        "    avg_train_loss = total_train_loss / len(train_rna_tensor)\n",
        "    train_losses.append(avg_train_loss)\n",
        "\n",
        "    # Evaluation on validation set\n",
        "    model.eval()  # Set model to evaluation mode\n",
        "    with torch.no_grad():\n",
        "        total_val_loss = 0\n",
        "        for i in range(0, len(val_rna_tensor), batch_size):\n",
        "            val_shared_output, _, val_adt_output, val_mu, val_logvar = model(val_rna_tensor[i:i+batch_size], None)\n",
        "            val_loss = vae_loss(val_adt_output, val_adt_tensor[i:i+batch_size], val_mu, val_logvar)\n",
        "            total_val_loss += val_loss.item()\n",
        "        avg_val_loss = total_val_loss / len(val_rna_tensor)\n",
        "        val_losses.append(avg_val_loss)\n",
        "\n",
        "    # Print average losses for the epoch\n",
        "    print(f\"Epoch {epoch + 1}/{epochs}, Train Loss: {avg_train_loss}, Validation Loss: {avg_val_loss}\")\n",
        "\n",
        "# Plot the training and validation losses\n",
        "plt.plot(train_losses, label='Training Loss')\n",
        "plt.plot(val_losses, label='Validation Loss')\n",
        "plt.xlabel('Epoch')\n",
        "plt.ylabel('Loss')\n",
        "plt.title('Training and Validation Losses over Epochs')\n",
        "plt.legend()\n",
        "plt.show()\n"
      ],
      "metadata": {
        "colab": {
          "base_uri": "https://localhost:8080/",
          "height": 1000
        },
        "id": "Yhv_jBmCwjjy",
        "outputId": "181c9fd1-4500-4271-a95a-8415cf1245a1"
      },
      "execution_count": null,
      "outputs": [
        {
          "output_type": "stream",
          "name": "stdout",
          "text": [
            "Epoch 1/50, Train Loss: 1827.9760146484375, Validation Loss: 209.116125\n",
            "Epoch 2/50, Train Loss: 50.8351630859375, Validation Loss: 105.57650390625\n",
            "Epoch 3/50, Train Loss: 51.456224609375, Validation Loss: 53.864953125\n",
            "Epoch 4/50, Train Loss: 42.6991884765625, Validation Loss: 33.7609345703125\n",
            "Epoch 5/50, Train Loss: 33.139964111328126, Validation Loss: 25.68721484375\n",
            "Epoch 6/50, Train Loss: 26.22688134765625, Validation Loss: 20.7596767578125\n",
            "Epoch 7/50, Train Loss: 21.517358520507813, Validation Loss: 18.0616689453125\n",
            "Epoch 8/50, Train Loss: 18.54504602050781, Validation Loss: 16.298423828125\n",
            "Epoch 9/50, Train Loss: 16.641661376953124, Validation Loss: 15.04026513671875\n",
            "Epoch 10/50, Train Loss: 15.389798583984375, Validation Loss: 14.14886767578125\n",
            "Epoch 11/50, Train Loss: 14.509986328125, Validation Loss: 13.54074951171875\n",
            "Epoch 12/50, Train Loss: 13.867422241210937, Validation Loss: 13.057853515625\n",
            "Epoch 13/50, Train Loss: 13.355003662109375, Validation Loss: 12.67622900390625\n",
            "Epoch 14/50, Train Loss: 12.955193237304687, Validation Loss: 12.38668994140625\n",
            "Epoch 15/50, Train Loss: 12.645607666015625, Validation Loss: 12.1525185546875\n",
            "Epoch 16/50, Train Loss: 12.3981484375, Validation Loss: 11.9679423828125\n",
            "Epoch 17/50, Train Loss: 12.204971069335938, Validation Loss: 11.82792724609375\n",
            "Epoch 18/50, Train Loss: 12.054431762695312, Validation Loss: 11.713181640625\n",
            "Epoch 19/50, Train Loss: 11.929570678710938, Validation Loss: 11.61587060546875\n",
            "Epoch 20/50, Train Loss: 11.82686181640625, Validation Loss: 11.52928955078125\n",
            "Epoch 21/50, Train Loss: 11.736853149414063, Validation Loss: 11.45103076171875\n",
            "Epoch 22/50, Train Loss: 11.657213989257812, Validation Loss: 11.38137548828125\n",
            "Epoch 23/50, Train Loss: 11.585610595703125, Validation Loss: 11.319732421875\n",
            "Epoch 24/50, Train Loss: 11.520673095703126, Validation Loss: 11.26371826171875\n",
            "Epoch 25/50, Train Loss: 11.461895751953126, Validation Loss: 11.21286083984375\n",
            "Epoch 26/50, Train Loss: 11.407974609375, Validation Loss: 11.1667265625\n",
            "Epoch 27/50, Train Loss: 11.358296997070312, Validation Loss: 11.12487353515625\n",
            "Epoch 28/50, Train Loss: 11.313005615234376, Validation Loss: 11.08662841796875\n",
            "Epoch 29/50, Train Loss: 11.27118017578125, Validation Loss: 11.05132275390625\n",
            "Epoch 30/50, Train Loss: 11.23262744140625, Validation Loss: 11.01964404296875\n",
            "Epoch 31/50, Train Loss: 11.197429565429687, Validation Loss: 10.9905458984375\n",
            "Epoch 32/50, Train Loss: 11.164431518554688, Validation Loss: 10.96420556640625\n",
            "Epoch 33/50, Train Loss: 11.134364135742187, Validation Loss: 10.94010302734375\n",
            "Epoch 34/50, Train Loss: 11.106847778320313, Validation Loss: 10.9181806640625\n",
            "Epoch 35/50, Train Loss: 11.081597290039063, Validation Loss: 10.89830615234375\n",
            "Epoch 36/50, Train Loss: 11.058625610351562, Validation Loss: 10.8802158203125\n",
            "Epoch 37/50, Train Loss: 11.037823974609376, Validation Loss: 10.86381982421875\n",
            "Epoch 38/50, Train Loss: 11.019029296875, Validation Loss: 10.8490263671875\n",
            "Epoch 39/50, Train Loss: 11.002073852539063, Validation Loss: 10.8356162109375\n",
            "Epoch 40/50, Train Loss: 10.986773681640624, Validation Loss: 10.82344677734375\n",
            "Epoch 41/50, Train Loss: 10.973020874023437, Validation Loss: 10.81244482421875\n",
            "Epoch 42/50, Train Loss: 10.961134643554688, Validation Loss: 10.80220849609375\n",
            "Epoch 43/50, Train Loss: 10.949276245117188, Validation Loss: 10.792435546875\n",
            "Epoch 44/50, Train Loss: 10.938592407226562, Validation Loss: 10.78356689453125\n",
            "Epoch 45/50, Train Loss: 10.928684326171876, Validation Loss: 10.77526171875\n",
            "Epoch 46/50, Train Loss: 10.919567138671875, Validation Loss: 10.7674873046875\n",
            "Epoch 47/50, Train Loss: 10.911032104492188, Validation Loss: 10.7601943359375\n",
            "Epoch 48/50, Train Loss: 10.902980712890624, Validation Loss: 10.75333251953125\n",
            "Epoch 49/50, Train Loss: 10.895396484375, Validation Loss: 10.74687744140625\n",
            "Epoch 50/50, Train Loss: 10.888243896484376, Validation Loss: 10.74043603515625\n"
          ]
        },
        {
          "output_type": "display_data",
          "data": {
            "text/plain": [
              "<Figure size 640x480 with 1 Axes>"
            ],
            "image/png": "[encoded data removed]"
          },
          "metadata": {}
        }
      ]
    },
    {
      "cell_type": "code",
      "source": [
        "#Convert test RNA data to torch tensor\n",
        "test_rna_tensor = torch.tensor(test_rna_scaled.T, dtype=torch.float32)\n",
        "\n",
        "# Set the model to evaluation mode\n",
        "model.eval()\n",
        "\n",
        "# Forward pass the test RNA data through the model\n",
        "with torch.no_grad():\n",
        "     _, _, adt_output, _, _ = model(test_rna_tensor, None)\n",
        "\n",
        "\n",
        "# Convert the reconstructed ADT data from tensor to numpy array\n",
        "reconstructed_adt = adt_scaler.inverse_transform(adt_output.T)"
      ],
      "metadata": {
        "id": "gPZGvTrfxetG"
      },
      "execution_count": null,
      "outputs": []
    },
    {
      "cell_type": "code",
      "source": [
        "# Save predictions\n",
        "predicted_adt_df = pd.DataFrame(reconstructed_adt, columns=train_adt.columns)"
      ],
      "metadata": {
        "id": "5XgQjmMOxzbB"
      },
      "execution_count": null,
      "outputs": []
    },
    {
      "cell_type": "code",
      "source": [
        "melted_test_set = pd.melt(predicted_adt_df.reset_index(), id_vars=\"index\", var_name=\"Var2\", value_name=\"Expected\")\n",
        "\n",
        "# Rename the 'index' column to 'Var1'\n",
        "melted_test_set.rename(columns={\"index\": \"Var1\"}, inplace=True)\n",
        "\n",
        "# Add 'ID' column\n",
        "melted_test_set[\"Id\"] = \"id\" + (melted_test_set.index + 1).astype(str)\n",
        "\n",
        "# Reorder the columns\n",
        "submission_df = melted_test_set[[\"Id\", \"Expected\"]]\n",
        "\n",
        "# Display the first few rows of the submission DataFrame\n",
        "print(submission_df.head())\n"
      ],
      "metadata": {
        "colab": {
          "base_uri": "https://localhost:8080/"
        },
        "id": "-LR3CO5VyAky",
        "outputId": "25eed1b4-f092-49e7-cc30-1d0686b492df"
      },
      "execution_count": null,
      "outputs": [
        {
          "output_type": "stream",
          "name": "stdout",
          "text": [
            "    Id  Expected\n",
            "0  id1  6.334562\n",
            "1  id2  4.605395\n",
            "2  id3  2.824166\n",
            "3  id4  3.868189\n",
            "4  id5  3.597739\n"
          ]
        }
      ]
    },
    {
      "cell_type": "markdown",
      "source": [
        " ### Model 5 - Transformer model"
      ],
      "metadata": {
        "id": "-Gt_aheFyXs_"
      }
    },
    {
      "cell_type": "markdown",
      "source": [
        "This code below implements a Transformer model for predicting ADT (Antibody-Derived Tag) features based on RNA (Ribonucleic Acid) data. The Transformer model architecture consists of embedding layers for both RNA and ADT data, followed by a multi-layer Transformer encoder. The RNA and ADT embeddings are combined and passed through the Transformer encoder to capture complex relationships in the data. The model is trained using mean squared error loss and optimized using the Adam optimizer. The training loop iterates over epochs, computing the loss and updating the model parameters. Early stopping is implemented to prevent overfitting, and the training and validation losses are plotted to monitor the training process. Additionally, data preprocessing steps include scaling the input data using StandardScaler and splitting the dataset into training and validation sets using train_test_split. Finally, DataLoader objects are created to efficiently load the data during training. Overall, this code provides a comprehensive pipeline for training and evaluating a Transformer model for predicting ADT features from RNA data. The best kaggle score after this model predicted ADT was 0.7339"
      ],
      "metadata": {
        "id": "u2hV-siLz0H-"
      }
    },
    {
      "cell_type": "code",
      "source": [
        "import torch\n",
        "import torch.nn as nn\n",
        "import torch.nn.functional as F\n",
        "import pandas as pd\n",
        "from sklearn.model_selection import train_test_split\n",
        "from torch.utils.data import DataLoader, TensorDataset\n",
        "import matplotlib.pyplot as plt\n",
        "from sklearn.preprocessing import StandardScaler\n",
        "# Define the Transformer model\n",
        "class TransformerModel(nn.Module):\n",
        "    def __init__(self, input_dim_rna, input_dim_adt, latent_dim, num_layers, num_heads, hidden_dim, dropout):\n",
        "        super(TransformerModel, self).__init__()\n",
        "        self.input_dim_rna = input_dim_rna\n",
        "        self.input_dim_adt = input_dim_adt\n",
        "        self.latent_dim = latent_dim\n",
        "        self.embedding_rna = nn.Linear(input_dim_rna, latent_dim)\n",
        "        self.embedding_adt = nn.Linear(input_dim_adt, latent_dim)\n",
        "\n",
        "        encoder_layer = nn.TransformerEncoderLayer(d_model=latent_dim, nhead=num_heads, dim_feedforward=hidden_dim, dropout=dropout)\n",
        "        self.transformer_encoder = nn.TransformerEncoder(encoder_layer, num_layers=num_layers)\n",
        "\n",
        "        self.fc_adt = nn.Linear(latent_dim, input_dim_adt)\n",
        "\n",
        "    def forward(self, src_rna, src_adt):\n",
        "    # Embedding RNA and ADT data\n",
        "        src_rna = self.embedding_rna(src_rna)\n",
        "        src_adt = self.embedding_adt(src_adt)\n",
        "\n",
        "        # Combine RNA and ADT embeddings\n",
        "        src = src_rna + src_adt\n",
        "\n",
        "        # Ensure the tensor has three dimensions\n",
        "        src = src.unsqueeze(0)  # Add sequence length dimension\n",
        "\n",
        "        # Transformer encoder\n",
        "        src = src.permute(1, 0, 2)  # Reshape for transformer input\n",
        "        src = self.transformer_encoder(src)\n",
        "        src = src.permute(1, 0, 2)  # Reshape back\n",
        "\n",
        "        # Predict ADT from transformer output\n",
        "        output = self.fc_adt(src.squeeze(0))  # Remove sequence length dimension before passing to FC layer\n",
        "        return output\n",
        "\n",
        "# Early stopping criteria\n",
        "class EarlyStopping:\n",
        "    def __init__(self, patience=5, delta=0):\n",
        "        self.patience = patience\n",
        "        self.delta = delta\n",
        "        self.counter = 0\n",
        "        self.best_score = None\n",
        "        self.early_stop = False\n",
        "\n",
        "    def __call__(self, val_loss):\n",
        "        if self.best_score is None:\n",
        "            self.best_score = val_loss\n",
        "        elif val_loss > self.best_score + self.delta:\n",
        "            self.counter += 1\n",
        "            if self.counter >= self.patience:\n",
        "                self.early_stop = True\n",
        "        else:\n",
        "            self.best_score = val_loss\n",
        "            self.counter = 0\n",
        "\n",
        "# Split training data into training and validation sets\n",
        "train_rna1, val_rna, train_adt1, val_adt = train_test_split(train_rna.T, train_adt.T, test_size=0.2, random_state=42)\n",
        "\n",
        "#Create MinMaxScaler objects for RNA and ADT data\n",
        "rna_scaler = StandardScaler()\n",
        "adt_scaler = StandardScaler()\n",
        "\n",
        "# Fit the scalers to the training data and transform the data\n",
        "train_rna_scaled = rna_scaler.fit_transform(train_rna1)\n",
        "train_adt_scaled = adt_scaler.fit_transform(train_adt1)\n",
        "val_rna_scaled = rna_scaler.fit_transform(val_rna)\n",
        "val_adt_scaled = adt_scaler.fit_transform(val_adt)\n",
        "test_rna_scaled = rna_scaler.fit_transform(test_rna.T)\n",
        "\n",
        "# Convert scaled data to PyTorch tensors\n",
        "train_rna_tensor = torch.tensor(train_rna_scaled, dtype=torch.float32)\n",
        "train_adt_tensor = torch.tensor(train_adt_scaled, dtype=torch.float32)\n",
        "val_rna_tensor = torch.tensor(val_rna_scaled, dtype=torch.float32)\n",
        "val_adt_tensor = torch.tensor(val_adt_scaled, dtype=torch.float32)\n",
        "test_rna_tensor = torch.tensor(test_rna_scaled.T, dtype=torch.float32)\n",
        "\n",
        "# Create DataLoader for training, validation, and test data\n",
        "train_dataset = TensorDataset(train_rna_tensor, train_adt_tensor)\n",
        "val_dataset = TensorDataset(val_rna_tensor, val_adt_tensor)\n",
        "test_dataset = TensorDataset(test_rna_tensor)\n",
        "batch_size = 512\n",
        "train_loader = DataLoader(train_dataset, batch_size=batch_size, shuffle=True)\n",
        "val_loader = DataLoader(val_dataset, batch_size=batch_size)\n",
        "test_loader = DataLoader(test_dataset, batch_size=batch_size)\n",
        "\n",
        "# Define model parameters\n",
        "input_dim_rna = train_rna.T.shape[1]  # Number of features in RNA data\n",
        "input_dim_adt = train_adt.T.shape[1]  # Number of features in ADT data\n",
        "latent_dim = 32  # Dimensionality of latent space\n",
        "num_layers = 6  # Number of transformer layers\n",
        "num_heads = 8  # Number of attention heads\n",
        "hidden_dim = 2048  # Dimensionality of the hidden layer in the transformer encoder\n",
        "dropout = 0.1  # Dropout probability\n",
        "\n",
        "# Create an instance of the Transformer model\n",
        "model = TransformerModel(input_dim_rna, input_dim_adt, latent_dim, num_layers, num_heads, hidden_dim, dropout)\n",
        "\n",
        "# Define loss function and optimizer\n",
        "criterion = nn.MSELoss()\n",
        "optimizer = torch.optim.Adam(model.parameters(), lr=0.01, weight_decay=1e-5)\n",
        "\n",
        "# Training loop\n",
        "def train_model(model, train_loader, val_loader, criterion, optimizer, num_epochs):\n",
        "    train_losses, val_losses = [], []\n",
        "    early_stopping = EarlyStopping(patience=5)\n",
        "    for epoch in range(num_epochs):\n",
        "        model.train()\n",
        "        running_loss = 0.0\n",
        "        for rna_batch, adt_batch in train_loader:\n",
        "            optimizer.zero_grad()\n",
        "            outputs = model(rna_batch, adt_batch)\n",
        "            loss = criterion(outputs, adt_batch)\n",
        "            loss.backward()\n",
        "            optimizer.step()\n",
        "            running_loss += loss.item() * len(rna_batch)\n",
        "        train_loss = running_loss / len(train_loader.dataset)\n",
        "        train_losses.append(train_loss)\n",
        "\n",
        "        # Validation\n",
        "        val_loss = evaluate_model(model, val_loader, criterion)\n",
        "        val_losses.append(val_loss)\n",
        "\n",
        "        print(f\"Epoch [{epoch+1}/{num_epochs}], Train Loss: {train_loss:.4f}, Val Loss: {val_loss:.4f}\")\n",
        "\n",
        "        early_stopping(val_loss)\n",
        "        if early_stopping.early_stop:\n",
        "            print(\"Early stopping\")\n",
        "            break\n",
        "\n",
        "\n",
        "    return train_losses, val_losses\n",
        "\n",
        "# Evaluation function\n",
        "def evaluate_model(model, loader, criterion):\n",
        "    model.eval()\n",
        "    total_loss = 0.0\n",
        "    with torch.no_grad():\n",
        "        for rna_batch, adt_batch in loader:\n",
        "            outputs = model(rna_batch, adt_batch)\n",
        "            loss = criterion(outputs, adt_batch)\n",
        "            total_loss += loss.item() * len(rna_batch)\n",
        "    return total_loss / len(loader.dataset)\n",
        "\n",
        "# Train the model\n",
        "num_epochs = 50\n",
        "train_losses, val_losses = train_model(model, train_loader, val_loader, criterion, optimizer, num_epochs)\n",
        "\n",
        "# Plot training and validation loss\n",
        "plt.plot(train_losses, label='Train Loss')\n",
        "plt.plot(val_losses, label='Val Loss')\n",
        "plt.xlabel('Epoch')\n",
        "plt.ylabel('Loss')\n",
        "plt.title('Training and Validation Loss')\n",
        "plt.legend()\n",
        "plt.show()\n",
        "\n"
      ],
      "metadata": {
        "colab": {
          "base_uri": "https://localhost:8080/",
          "height": 861
        },
        "id": "io1YGwAAyWOR",
        "outputId": "bf147ed5-cab8-48c2-8d10-3bb306c54aec"
      },
      "execution_count": null,
      "outputs": [
        {
          "output_type": "stream",
          "name": "stderr",
          "text": [
            "/usr/local/lib/python3.10/dist-packages/torch/nn/modules/transformer.py:286: UserWarning: enable_nested_tensor is True, but self.use_nested_tensor is False because encoder_layer.self_attn.batch_first was not True(use batch_first for better inference performance)\n",
            "  warnings.warn(f\"enable_nested_tensor is True, but self.use_nested_tensor is False because {why_not_sparsity_fast_path}\")\n"
          ]
        },
        {
          "output_type": "stream",
          "name": "stdout",
          "text": [
            "Epoch [1/50], Train Loss: 1.1827, Val Loss: 1.0474\n",
            "Epoch [2/50], Train Loss: 1.0456, Val Loss: 1.0077\n",
            "Epoch [3/50], Train Loss: 1.0279, Val Loss: 1.0040\n",
            "Epoch [4/50], Train Loss: 1.0220, Val Loss: 1.0031\n",
            "Epoch [5/50], Train Loss: 1.0144, Val Loss: 1.0022\n",
            "Epoch [6/50], Train Loss: 1.0119, Val Loss: 1.0008\n",
            "Epoch [7/50], Train Loss: 1.0110, Val Loss: 1.0005\n",
            "Epoch [8/50], Train Loss: 1.0088, Val Loss: 1.0005\n",
            "Epoch [9/50], Train Loss: 1.0093, Val Loss: 1.0018\n",
            "Epoch [10/50], Train Loss: 1.0073, Val Loss: 1.0012\n",
            "Epoch [11/50], Train Loss: 1.0064, Val Loss: 1.0008\n",
            "Epoch [12/50], Train Loss: 1.0039, Val Loss: 1.0005\n",
            "Epoch [13/50], Train Loss: 1.0030, Val Loss: 1.0006\n",
            "Epoch [14/50], Train Loss: 1.0027, Val Loss: 1.0006\n",
            "Epoch [15/50], Train Loss: 1.0033, Val Loss: 1.0006\n",
            "Epoch [16/50], Train Loss: 1.0028, Val Loss: 1.0006\n",
            "Epoch [17/50], Train Loss: 1.0025, Val Loss: 1.0009\n",
            "Early stopping\n"
          ]
        },
        {
          "output_type": "display_data",
          "data": {
            "text/plain": [
              "<Figure size 640x480 with 1 Axes>"
            ],
            "image/png": "[encoded data removed]"
          },
          "metadata": {}
        }
      ]
    },
    {
      "cell_type": "code",
      "source": [
        "# Prediction function\n",
        "def predict_adt(model, rna_data):\n",
        "    model.eval()\n",
        "    with torch.no_grad():\n",
        "        # Generate placeholder ADT data (zeros) since ADT data is not available during inference\n",
        "        placeholder_adt = torch.zeros(rna_data.shape[0], model.input_dim_adt, dtype=torch.float32)\n",
        "        outputs = model(rna_data, placeholder_adt)\n",
        "    return outputs\n",
        "\n",
        "# Make predictions for test RNA data\n",
        "test_predictions = predict_adt(model, test_rna_tensor.T)\n",
        "test_predictions = adt_scaler.inverse_transform(test_predictions)\n",
        "print(\"Predictions for test RNA data:\", test_predictions)\n"
      ],
      "metadata": {
        "colab": {
          "base_uri": "https://localhost:8080/"
        },
        "id": "1Ud-t3C50VPe",
        "outputId": "e96b7c74-fcb7-49af-870b-b7168a3d26a3"
      },
      "execution_count": null,
      "outputs": [
        {
          "output_type": "stream",
          "name": "stdout",
          "text": [
            "Predictions for test RNA data: [[6.21526974 4.29246367 2.4930614  ... 1.91465166 4.56350465 4.42585437]\n",
            " [6.21526975 4.29246365 2.49306139 ... 1.91465165 4.56350464 4.42585436]\n",
            " [6.21526977 4.29246366 2.49306138 ... 1.91465166 4.5635046  4.42585435]\n",
            " ...\n",
            " [6.21526975 4.29246368 2.49306139 ... 1.91465162 4.56350465 4.42585436]\n",
            " [6.21526977 4.29246366 2.49306138 ... 1.91465166 4.5635046  4.42585435]\n",
            " [6.21526976 4.29246365 2.4930614  ... 1.91465165 4.56350463 4.42585437]]\n"
          ]
        }
      ]
    },
    {
      "cell_type": "code",
      "source": [
        "# Save predictions\n",
        "predicted_adt_df = pd.DataFrame(test_predictions.T, columns=train_adt.columns)"
      ],
      "metadata": {
        "id": "qrjzuO9FyV9a"
      },
      "execution_count": null,
      "outputs": []
    },
    {
      "cell_type": "code",
      "source": [
        "melted_test_set = pd.melt(predicted_adt_df.reset_index(), id_vars=\"index\", var_name=\"Var2\", value_name=\"Expected\")\n",
        "\n",
        "# Rename the 'index' column to 'Var1'\n",
        "melted_test_set.rename(columns={\"index\": \"Var1\"}, inplace=True)\n",
        "\n",
        "# Add 'ID' column\n",
        "melted_test_set[\"Id\"] = \"id\" + (melted_test_set.index + 1).astype(str)\n",
        "\n",
        "# Reorder the columns\n",
        "submission_df = melted_test_set[[\"Id\", \"Expected\"]]\n",
        "\n",
        "# Display the first few rows of the submission DataFrame\n",
        "print(submission_df.head())\n"
      ],
      "metadata": {
        "colab": {
          "base_uri": "https://localhost:8080/"
        },
        "id": "jOM8_y0E1D6Y",
        "outputId": "b02f9f43-7825-4875-d55f-1a3c26aefd6f"
      },
      "execution_count": null,
      "outputs": [
        {
          "output_type": "stream",
          "name": "stdout",
          "text": [
            "    Id  Expected\n",
            "0  id1  6.215270\n",
            "1  id2  4.292464\n",
            "2  id3  2.493061\n",
            "3  id4  3.708994\n",
            "4  id5  3.225082\n"
          ]
        }
      ]
    },
    {
      "cell_type": "markdown",
      "source": [
        "# Results"
      ],
      "metadata": {
        "id": "1s0E85EtOTfx"
      }
    },
    {
      "cell_type": "markdown",
      "source": [
        "These models aim to learn representations from both RNA and ADT modalities to predict ADT features. They undergo preprocessing steps, including data scaling and train-validation splits, before being trained using different loss functions and optimization algorithms. Each model is evaluated based on its ability to generalize to unseen data, with performance monitored through training and validation loss curves. Notably, Model 3, which is a multimodal variational autoencoder, achieved the highest Kaggle score of 0.7340, indicating its effectiveness in capturing the underlying relationships between RNA and ADT data. However, all models demonstrate unique approaches and contributions to multimodal fusion in bioinformatics, showcasing the versatility and adaptability of deep learning techniques in this domain.Here are the results of the different models based on their Kaggle scores:\n",
        "\n",
        "Model 1 - Multimodal Fusion Autoencoder: Best Kaggle Score: 0.6951\n",
        "\n",
        "Model 2 - Multimodal Fusion Autoencoder using Tensorflow and Keras: Best Kaggle Score: 0.7331\n",
        "\n",
        "Model 3 - Multimodal Variational Autoencoder: Kaggle Score: 0.7340\n",
        "\n",
        "Model 4 - Multimodal Variational Autoencoder with Adversarial Networks: Best Kaggle Score: 0.6915\n",
        "\n",
        "Model 5 - Transformer model:Best Kaggle Score: 0.7339\n",
        "\n",
        "These scores indicate the performance of each model in predicting ADT features from RNA data. Model 3, the Multimodal Variational Autoencoder, achieved the highest Kaggle score, suggesting its effectiveness in capturing the complex relationships between RNA and ADT modalities. However, all models demonstrate competitive performance, showcasing the potential of deep learning approaches for multimodal fusion tasks in bioinformatics."
      ],
      "metadata": {
        "id": "v05ZYWA52rRy"
      }
    },
    {
      "cell_type": "markdown",
      "source": [
        "# Conclusion"
      ],
      "metadata": {
        "id": "k7lwRW2KOwXc"
      }
    },
    {
      "cell_type": "markdown",
      "source": [
        "The experimentation with various deep learning models for predicting ADT features from RNA data showcases the versatility and effectiveness of different architectures in capturing the complex relationships between multiple modalities. The Multimodal Variational Autoencoder (Model 3) emerged as the top performer for me, achieving the highest Kaggle score of 0.7340. This success highlights the efficacy of probabilistic modeling and latent space representations in capturing the inherent variability and dependencies within multimodal datasets. Additionally, the Transformer model (Model 5) also demonstrated competitive performance, further emphasizing the importance of attention mechanisms in capturing long-range dependencies and interactions within sequences. Overall, these findings underscore the potential of deep learning techniques in facilitating multimodal fusion tasks in bioinformatics and offer valuable insights for future research and application in precision medicine and drug discovery. I believe with more hyperparameter tunings and architecture modifications in all five models, I can achieve a higher accuracy in predictions of ADT in the future."
      ],
      "metadata": {
        "id": "S8eFUqrx3ceF"
      }
    }
  ]
}